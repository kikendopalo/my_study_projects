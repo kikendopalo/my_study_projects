{
 "cells": [
  {
   "cell_type": "code",
   "execution_count": 1,
   "id": "a121d6f4",
   "metadata": {
    "_cell_guid": "b1076dfc-b9ad-4769-8c92-a6c4dae69d19",
    "_kg_hide-output": false,
    "_uuid": "8f2839f25d086af736a60e9eeb907d3b93b6e0e5",
    "execution": {
     "iopub.execute_input": "2025-03-11T19:35:58.091100Z",
     "iopub.status.busy": "2025-03-11T19:35:58.090493Z",
     "iopub.status.idle": "2025-03-11T19:36:34.757659Z",
     "shell.execute_reply": "2025-03-11T19:36:34.756330Z"
    },
    "papermill": {
     "duration": 36.689384,
     "end_time": "2025-03-11T19:36:34.759741",
     "exception": false,
     "start_time": "2025-03-11T19:35:58.070357",
     "status": "completed"
    },
    "tags": []
   },
   "outputs": [
    {
     "name": "stdout",
     "output_type": "stream",
     "text": [
      "Collecting pymorphy2\r\n",
      "  Downloading pymorphy2-0.9.1-py3-none-any.whl.metadata (3.6 kB)\r\n",
      "Collecting dawg-python>=0.7.1 (from pymorphy2)\r\n",
      "  Downloading DAWG_Python-0.7.2-py2.py3-none-any.whl.metadata (7.0 kB)\r\n",
      "Collecting pymorphy2-dicts-ru<3.0,>=2.4 (from pymorphy2)\r\n",
      "  Downloading pymorphy2_dicts_ru-2.4.417127.4579844-py2.py3-none-any.whl.metadata (2.1 kB)\r\n",
      "Collecting docopt>=0.6 (from pymorphy2)\r\n",
      "  Downloading docopt-0.6.2.tar.gz (25 kB)\r\n",
      "  Preparing metadata (setup.py) ... \u001b[?25l\u001b[?25hdone\r\n",
      "Downloading pymorphy2-0.9.1-py3-none-any.whl (55 kB)\r\n",
      "\u001b[2K   \u001b[90m━━━━━━━━━━━━━━━━━━━━━━━━━━━━━━━━━━━━━━━━\u001b[0m \u001b[32m55.5/55.5 kB\u001b[0m \u001b[31m2.9 MB/s\u001b[0m eta \u001b[36m0:00:00\u001b[0m\r\n",
      "\u001b[?25hDownloading DAWG_Python-0.7.2-py2.py3-none-any.whl (11 kB)\r\n",
      "Downloading pymorphy2_dicts_ru-2.4.417127.4579844-py2.py3-none-any.whl (8.2 MB)\r\n",
      "\u001b[2K   \u001b[90m━━━━━━━━━━━━━━━━━━━━━━━━━━━━━━━━━━━━━━━━\u001b[0m \u001b[32m8.2/8.2 MB\u001b[0m \u001b[31m62.8 MB/s\u001b[0m eta \u001b[36m0:00:00\u001b[0m\r\n",
      "\u001b[?25hBuilding wheels for collected packages: docopt\r\n",
      "  Building wheel for docopt (setup.py) ... \u001b[?25l\u001b[?25hdone\r\n",
      "  Created wheel for docopt: filename=docopt-0.6.2-py2.py3-none-any.whl size=13706 sha256=3d902dd2a83415df88ad38cb23006fc75fc48508f73613c31881e398e1c3b941\r\n",
      "  Stored in directory: /root/.cache/pip/wheels/fc/ab/d4/5da2067ac95b36618c629a5f93f809425700506f72c9732fac\r\n",
      "Successfully built docopt\r\n",
      "Installing collected packages: pymorphy2-dicts-ru, docopt, dawg-python, pymorphy2\r\n",
      "Successfully installed dawg-python-0.7.2 docopt-0.6.2 pymorphy2-0.9.1 pymorphy2-dicts-ru-2.4.417127.4579844\r\n",
      "Collecting pymorphy2-dicts\r\n",
      "  Downloading pymorphy2_dicts-2.4.393442.3710985-py2.py3-none-any.whl.metadata (2.5 kB)\r\n",
      "Downloading pymorphy2_dicts-2.4.393442.3710985-py2.py3-none-any.whl (7.1 MB)\r\n",
      "\u001b[2K   \u001b[90m━━━━━━━━━━━━━━━━━━━━━━━━━━━━━━━━━━━━━━━━\u001b[0m \u001b[32m7.1/7.1 MB\u001b[0m \u001b[31m45.9 MB/s\u001b[0m eta \u001b[36m0:00:00\u001b[0m\r\n",
      "\u001b[?25hInstalling collected packages: pymorphy2-dicts\r\n",
      "Successfully installed pymorphy2-dicts-2.4.393442.3710985\r\n",
      "Requirement already satisfied: DAWG-Python in /usr/local/lib/python3.10/dist-packages (0.7.2)\r\n",
      "Requirement already satisfied: pymystem3 in /usr/local/lib/python3.10/dist-packages (0.2.0)\r\n",
      "Requirement already satisfied: requests in /usr/local/lib/python3.10/dist-packages (from pymystem3) (2.32.3)\r\n",
      "Requirement already satisfied: charset-normalizer<4,>=2 in /usr/local/lib/python3.10/dist-packages (from requests->pymystem3) (3.4.1)\r\n",
      "Requirement already satisfied: idna<4,>=2.5 in /usr/local/lib/python3.10/dist-packages (from requests->pymystem3) (3.10)\r\n",
      "Requirement already satisfied: urllib3<3,>=1.21.1 in /usr/local/lib/python3.10/dist-packages (from requests->pymystem3) (2.3.0)\r\n",
      "Requirement already satisfied: certifi>=2017.4.17 in /usr/local/lib/python3.10/dist-packages (from requests->pymystem3) (2025.1.31)\r\n",
      "Collecting natasha\r\n",
      "  Downloading natasha-1.6.0-py3-none-any.whl.metadata (23 kB)\r\n",
      "Requirement already satisfied: pymorphy2 in /usr/local/lib/python3.10/dist-packages (from natasha) (0.9.1)\r\n",
      "Collecting razdel>=0.5.0 (from natasha)\r\n",
      "  Downloading razdel-0.5.0-py3-none-any.whl.metadata (10.0 kB)\r\n",
      "Collecting navec>=0.9.0 (from natasha)\r\n",
      "  Downloading navec-0.10.0-py3-none-any.whl.metadata (21 kB)\r\n",
      "Collecting slovnet>=0.6.0 (from natasha)\r\n",
      "  Downloading slovnet-0.6.0-py3-none-any.whl.metadata (34 kB)\r\n",
      "Collecting yargy>=0.16.0 (from natasha)\r\n",
      "  Downloading yargy-0.16.0-py3-none-any.whl.metadata (3.5 kB)\r\n",
      "Collecting ipymarkup>=0.8.0 (from natasha)\r\n",
      "  Downloading ipymarkup-0.9.0-py3-none-any.whl.metadata (5.6 kB)\r\n",
      "Collecting intervaltree>=3 (from ipymarkup>=0.8.0->natasha)\r\n",
      "  Downloading intervaltree-3.1.0.tar.gz (32 kB)\r\n",
      "  Preparing metadata (setup.py) ... \u001b[?25l\u001b[?25hdone\r\n",
      "Requirement already satisfied: numpy in /usr/local/lib/python3.10/dist-packages (from navec>=0.9.0->natasha) (1.26.4)\r\n",
      "Requirement already satisfied: dawg-python>=0.7.1 in /usr/local/lib/python3.10/dist-packages (from pymorphy2->natasha) (0.7.2)\r\n",
      "Requirement already satisfied: pymorphy2-dicts-ru<3.0,>=2.4 in /usr/local/lib/python3.10/dist-packages (from pymorphy2->natasha) (2.4.417127.4579844)\r\n",
      "Requirement already satisfied: docopt>=0.6 in /usr/local/lib/python3.10/dist-packages (from pymorphy2->natasha) (0.6.2)\r\n",
      "Requirement already satisfied: sortedcontainers<3.0,>=2.0 in /usr/local/lib/python3.10/dist-packages (from intervaltree>=3->ipymarkup>=0.8.0->natasha) (2.4.0)\r\n",
      "Requirement already satisfied: mkl_fft in /usr/local/lib/python3.10/dist-packages (from numpy->navec>=0.9.0->natasha) (1.3.8)\r\n",
      "Requirement already satisfied: mkl_random in /usr/local/lib/python3.10/dist-packages (from numpy->navec>=0.9.0->natasha) (1.2.4)\r\n",
      "Requirement already satisfied: mkl_umath in /usr/local/lib/python3.10/dist-packages (from numpy->navec>=0.9.0->natasha) (0.1.1)\r\n",
      "Requirement already satisfied: mkl in /usr/local/lib/python3.10/dist-packages (from numpy->navec>=0.9.0->natasha) (2025.0.1)\r\n",
      "Requirement already satisfied: tbb4py in /usr/local/lib/python3.10/dist-packages (from numpy->navec>=0.9.0->natasha) (2022.0.0)\r\n",
      "Requirement already satisfied: mkl-service in /usr/local/lib/python3.10/dist-packages (from numpy->navec>=0.9.0->natasha) (2.4.1)\r\n",
      "Requirement already satisfied: intel-openmp>=2024 in /usr/local/lib/python3.10/dist-packages (from mkl->numpy->navec>=0.9.0->natasha) (2024.2.0)\r\n",
      "Requirement already satisfied: tbb==2022.* in /usr/local/lib/python3.10/dist-packages (from mkl->numpy->navec>=0.9.0->natasha) (2022.0.0)\r\n",
      "Requirement already satisfied: tcmlib==1.* in /usr/local/lib/python3.10/dist-packages (from tbb==2022.*->mkl->numpy->navec>=0.9.0->natasha) (1.2.0)\r\n",
      "Requirement already satisfied: intel-cmplr-lib-rt in /usr/local/lib/python3.10/dist-packages (from mkl_umath->numpy->navec>=0.9.0->natasha) (2024.2.0)\r\n",
      "Requirement already satisfied: intel-cmplr-lib-ur==2024.2.0 in /usr/local/lib/python3.10/dist-packages (from intel-openmp>=2024->mkl->numpy->navec>=0.9.0->natasha) (2024.2.0)\r\n",
      "Downloading natasha-1.6.0-py3-none-any.whl (34.4 MB)\r\n",
      "\u001b[2K   \u001b[90m━━━━━━━━━━━━━━━━━━━━━━━━━━━━━━━━━━━━━━━━\u001b[0m \u001b[32m34.4/34.4 MB\u001b[0m \u001b[31m41.5 MB/s\u001b[0m eta \u001b[36m0:00:00\u001b[0m\r\n",
      "\u001b[?25hDownloading ipymarkup-0.9.0-py3-none-any.whl (14 kB)\r\n",
      "Downloading navec-0.10.0-py3-none-any.whl (23 kB)\r\n",
      "Downloading razdel-0.5.0-py3-none-any.whl (21 kB)\r\n",
      "Downloading slovnet-0.6.0-py3-none-any.whl (46 kB)\r\n",
      "\u001b[2K   \u001b[90m━━━━━━━━━━━━━━━━━━━━━━━━━━━━━━━━━━━━━━━━\u001b[0m \u001b[32m46.7/46.7 kB\u001b[0m \u001b[31m2.2 MB/s\u001b[0m eta \u001b[36m0:00:00\u001b[0m\r\n",
      "\u001b[?25hDownloading yargy-0.16.0-py3-none-any.whl (33 kB)\r\n",
      "Building wheels for collected packages: intervaltree\r\n",
      "  Building wheel for intervaltree (setup.py) ... \u001b[?25l\u001b[?25hdone\r\n",
      "  Created wheel for intervaltree: filename=intervaltree-3.1.0-py2.py3-none-any.whl size=26097 sha256=9df0c692673c2d0e855734d92729bfa4f7caee498131a3df2d74522bd28e3e17\r\n",
      "  Stored in directory: /root/.cache/pip/wheels/fa/80/8c/43488a924a046b733b64de3fac99252674c892a4c3801c0a61\r\n",
      "Successfully built intervaltree\r\n",
      "Installing collected packages: razdel, intervaltree, yargy, ipymarkup, navec, slovnet, natasha\r\n",
      "Successfully installed intervaltree-3.1.0 ipymarkup-0.9.0 natasha-1.6.0 navec-0.10.0 razdel-0.5.0 slovnet-0.6.0 yargy-0.16.0\r\n",
      "Collecting russian-tagsets\r\n",
      "  Downloading russian-tagsets-0.6.tar.gz (23 kB)\r\n",
      "  Preparing metadata (setup.py) ... \u001b[?25l\u001b[?25hdone\r\n",
      "Building wheels for collected packages: russian-tagsets\r\n",
      "  Building wheel for russian-tagsets (setup.py) ... \u001b[?25l\u001b[?25hdone\r\n",
      "  Created wheel for russian-tagsets: filename=russian_tagsets-0.6-py3-none-any.whl size=24619 sha256=f3b86c0aa719d25df5ba60a8196edc2cf9975302ac579860581dffacad5843a1\r\n",
      "  Stored in directory: /root/.cache/pip/wheels/d1/f9/53/8609e08636dbe4bad244c50e3a16ab4d824928e7342059784d\r\n",
      "Successfully built russian-tagsets\r\n",
      "Installing collected packages: russian-tagsets\r\n",
      "Successfully installed russian-tagsets-0.6\r\n"
     ]
    }
   ],
   "source": [
    "!pip install pymorphy2\n",
    "!pip install pymorphy2-dicts\n",
    "!pip install DAWG-Python\n",
    "!pip install pymystem3\n",
    "!pip install natasha\n",
    "!pip install russian-tagsets"
   ]
  },
  {
   "cell_type": "markdown",
   "id": "35a580fc",
   "metadata": {
    "papermill": {
     "duration": 0.013676,
     "end_time": "2025-03-11T19:36:34.788029",
     "exception": false,
     "start_time": "2025-03-11T19:36:34.774353",
     "status": "completed"
    },
    "tags": []
   },
   "source": [
    "**Подготовка данных:**"
   ]
  },
  {
   "cell_type": "code",
   "execution_count": 2,
   "id": "90e2a0cd",
   "metadata": {
    "execution": {
     "iopub.execute_input": "2025-03-11T19:36:34.818817Z",
     "iopub.status.busy": "2025-03-11T19:36:34.818397Z",
     "iopub.status.idle": "2025-03-11T19:36:37.529715Z",
     "shell.execute_reply": "2025-03-11T19:36:37.528799Z"
    },
    "papermill": {
     "duration": 2.728709,
     "end_time": "2025-03-11T19:36:37.531574",
     "exception": false,
     "start_time": "2025-03-11T19:36:34.802865",
     "status": "completed"
    },
    "tags": []
   },
   "outputs": [],
   "source": [
    "import pymorphy2\n",
    "import numpy as np\n",
    "import pandas as pd\n",
    "import seaborn as sns\n",
    "import matplotlib.pyplot as plt\n",
    "import pymystem3\n",
    "from natasha import NewsEmbedding, NewsMorphTagger, Doc, Segmenter, MorphVocab\n",
    "import re"
   ]
  },
  {
   "cell_type": "markdown",
   "id": "e24d960f",
   "metadata": {
    "papermill": {
     "duration": 0.013728,
     "end_time": "2025-03-11T19:36:37.559764",
     "exception": false,
     "start_time": "2025-03-11T19:36:37.546036",
     "status": "completed"
    },
    "tags": []
   },
   "source": [
    "Подготовка словаря:"
   ]
  },
  {
   "cell_type": "code",
   "execution_count": 3,
   "id": "f0699a9a",
   "metadata": {
    "execution": {
     "iopub.execute_input": "2025-03-11T19:36:37.589515Z",
     "iopub.status.busy": "2025-03-11T19:36:37.589006Z",
     "iopub.status.idle": "2025-03-11T19:36:55.792852Z",
     "shell.execute_reply": "2025-03-11T19:36:55.791412Z"
    },
    "papermill": {
     "duration": 18.221068,
     "end_time": "2025-03-11T19:36:55.794924",
     "exception": false,
     "start_time": "2025-03-11T19:36:37.573856",
     "status": "completed"
    },
    "tags": []
   },
   "outputs": [],
   "source": [
    "dictionary = []\n",
    "\n",
    "file = open(\"/kaggle/input/dictionary/dict.opcorpora.txt\", \"r\")\n",
    "\n",
    "for line in file:\n",
    "    cur_line = line.strip().split()\n",
    "    if len(cur_line) == 1:\n",
    "        lemma_id = cur_line[0]\n",
    "        lemma_flg = 1\n",
    "    elif len(cur_line) == 0:\n",
    "        pass\n",
    "    else:\n",
    "        if lemma_flg == 1:\n",
    "            lemma = cur_line[0].lower()\n",
    "            lemma = lemma.replace('ё', 'е')\n",
    "            lemma_flg = 0\n",
    "        form = cur_line[0].lower()\n",
    "        form = form.replace('ё', 'е')\n",
    "        pos = cur_line[1].split(',')[0]\n",
    "        dictionary.append({'lemma_id': lemma_id, 'lemma': lemma, 'form': form, 'pos': pos})\n",
    "        \n",
    "dictionary = pd.DataFrame(dictionary)"
   ]
  },
  {
   "cell_type": "code",
   "execution_count": 4,
   "id": "bfe6e5ca",
   "metadata": {
    "execution": {
     "iopub.execute_input": "2025-03-11T19:36:55.824940Z",
     "iopub.status.busy": "2025-03-11T19:36:55.824555Z",
     "iopub.status.idle": "2025-03-11T19:36:55.854302Z",
     "shell.execute_reply": "2025-03-11T19:36:55.853209Z"
    },
    "papermill": {
     "duration": 0.046646,
     "end_time": "2025-03-11T19:36:55.856174",
     "exception": false,
     "start_time": "2025-03-11T19:36:55.809528",
     "status": "completed"
    },
    "tags": []
   },
   "outputs": [
    {
     "data": {
      "text/html": [
       "<div>\n",
       "<style scoped>\n",
       "    .dataframe tbody tr th:only-of-type {\n",
       "        vertical-align: middle;\n",
       "    }\n",
       "\n",
       "    .dataframe tbody tr th {\n",
       "        vertical-align: top;\n",
       "    }\n",
       "\n",
       "    .dataframe thead th {\n",
       "        text-align: right;\n",
       "    }\n",
       "</style>\n",
       "<table border=\"1\" class=\"dataframe\">\n",
       "  <thead>\n",
       "    <tr style=\"text-align: right;\">\n",
       "      <th></th>\n",
       "      <th>lemma_id</th>\n",
       "      <th>lemma</th>\n",
       "      <th>form</th>\n",
       "      <th>pos</th>\n",
       "    </tr>\n",
       "  </thead>\n",
       "  <tbody>\n",
       "    <tr>\n",
       "      <th>0</th>\n",
       "      <td>1</td>\n",
       "      <td>еж</td>\n",
       "      <td>еж</td>\n",
       "      <td>NOUN</td>\n",
       "    </tr>\n",
       "    <tr>\n",
       "      <th>1</th>\n",
       "      <td>1</td>\n",
       "      <td>еж</td>\n",
       "      <td>ежа</td>\n",
       "      <td>NOUN</td>\n",
       "    </tr>\n",
       "    <tr>\n",
       "      <th>2</th>\n",
       "      <td>1</td>\n",
       "      <td>еж</td>\n",
       "      <td>ежу</td>\n",
       "      <td>NOUN</td>\n",
       "    </tr>\n",
       "    <tr>\n",
       "      <th>3</th>\n",
       "      <td>1</td>\n",
       "      <td>еж</td>\n",
       "      <td>ежа</td>\n",
       "      <td>NOUN</td>\n",
       "    </tr>\n",
       "    <tr>\n",
       "      <th>4</th>\n",
       "      <td>1</td>\n",
       "      <td>еж</td>\n",
       "      <td>ежом</td>\n",
       "      <td>NOUN</td>\n",
       "    </tr>\n",
       "    <tr>\n",
       "      <th>...</th>\n",
       "      <td>...</td>\n",
       "      <td>...</td>\n",
       "      <td>...</td>\n",
       "      <td>...</td>\n",
       "    </tr>\n",
       "    <tr>\n",
       "      <th>5141288</th>\n",
       "      <td>395250</td>\n",
       "      <td>направляющая</td>\n",
       "      <td>направляющих</td>\n",
       "      <td>NOUN</td>\n",
       "    </tr>\n",
       "    <tr>\n",
       "      <th>5141289</th>\n",
       "      <td>395250</td>\n",
       "      <td>направляющая</td>\n",
       "      <td>направляющим</td>\n",
       "      <td>NOUN</td>\n",
       "    </tr>\n",
       "    <tr>\n",
       "      <th>5141290</th>\n",
       "      <td>395250</td>\n",
       "      <td>направляющая</td>\n",
       "      <td>направляющие</td>\n",
       "      <td>NOUN</td>\n",
       "    </tr>\n",
       "    <tr>\n",
       "      <th>5141291</th>\n",
       "      <td>395250</td>\n",
       "      <td>направляющая</td>\n",
       "      <td>направляющими</td>\n",
       "      <td>NOUN</td>\n",
       "    </tr>\n",
       "    <tr>\n",
       "      <th>5141292</th>\n",
       "      <td>395250</td>\n",
       "      <td>направляющая</td>\n",
       "      <td>направляющих</td>\n",
       "      <td>NOUN</td>\n",
       "    </tr>\n",
       "  </tbody>\n",
       "</table>\n",
       "<p>5141293 rows × 4 columns</p>\n",
       "</div>"
      ],
      "text/plain": [
       "        lemma_id         lemma           form   pos\n",
       "0              1            еж             еж  NOUN\n",
       "1              1            еж            ежа  NOUN\n",
       "2              1            еж            ежу  NOUN\n",
       "3              1            еж            ежа  NOUN\n",
       "4              1            еж           ежом  NOUN\n",
       "...          ...           ...            ...   ...\n",
       "5141288   395250  направляющая   направляющих  NOUN\n",
       "5141289   395250  направляющая   направляющим  NOUN\n",
       "5141290   395250  направляющая   направляющие  NOUN\n",
       "5141291   395250  направляющая  направляющими  NOUN\n",
       "5141292   395250  направляющая   направляющих  NOUN\n",
       "\n",
       "[5141293 rows x 4 columns]"
      ]
     },
     "execution_count": 4,
     "metadata": {},
     "output_type": "execute_result"
    }
   ],
   "source": [
    "dictionary"
   ]
  },
  {
   "cell_type": "markdown",
   "id": "5c467160",
   "metadata": {
    "papermill": {
     "duration": 0.014069,
     "end_time": "2025-03-11T19:36:55.885030",
     "exception": false,
     "start_time": "2025-03-11T19:36:55.870961",
     "status": "completed"
    },
    "tags": []
   },
   "source": [
    "Подготовка текстов:"
   ]
  },
  {
   "cell_type": "code",
   "execution_count": 5,
   "id": "1545516d",
   "metadata": {
    "execution": {
     "iopub.execute_input": "2025-03-11T19:36:55.916858Z",
     "iopub.status.busy": "2025-03-11T19:36:55.916393Z",
     "iopub.status.idle": "2025-03-11T19:37:21.771297Z",
     "shell.execute_reply": "2025-03-11T19:37:21.770112Z"
    },
    "papermill": {
     "duration": 25.872901,
     "end_time": "2025-03-11T19:37:21.773325",
     "exception": false,
     "start_time": "2025-03-11T19:36:55.900424",
     "status": "completed"
    },
    "tags": []
   },
   "outputs": [
    {
     "name": "stderr",
     "output_type": "stream",
     "text": [
      "Installing mystem to /root/.local/bin/mystem from http://download.cdn.yandex.net/mystem/mystem-3.1-linux-64bit.tar.gz\n"
     ]
    }
   ],
   "source": [
    "file = open(\"/kaggle/input/literature-texts/Bulgakov_Master-i-Margarita.KtONuQ.524112.txt\", \"r\")\n",
    "text = file.read()\n",
    "file.close()\n",
    "\n",
    "file = open(\"/kaggle/input/literature-texts/Dante_Bozhestvennaya-komediya.gCwUDQ.73239.txt\", \"r\")\n",
    "text += file.read()\n",
    "file.close()\n",
    "\n",
    "file = open(\"/kaggle/input/literature-texts/Hoking_Teoriya-vsego-Ot-singulyarnosti-do-beskonechnosti-proishozhdenie-i-sudba-Vselennoy.ny5TIA.txt\", \"r\")\n",
    "text += file.read()\n",
    "file.close()\n",
    "\n",
    "text = text.lower()\n",
    "text = text.replace('ё', 'е')\n",
    "\n",
    "mystem = pymystem3.Mystem()\n",
    "text = mystem.analyze(text)"
   ]
  },
  {
   "cell_type": "code",
   "execution_count": 6,
   "id": "677da417",
   "metadata": {
    "execution": {
     "iopub.execute_input": "2025-03-11T19:37:21.804210Z",
     "iopub.status.busy": "2025-03-11T19:37:21.803803Z",
     "iopub.status.idle": "2025-03-11T19:37:27.143603Z",
     "shell.execute_reply": "2025-03-11T19:37:27.142487Z"
    },
    "papermill": {
     "duration": 5.357039,
     "end_time": "2025-03-11T19:37:27.145418",
     "exception": false,
     "start_time": "2025-03-11T19:37:21.788379",
     "status": "completed"
    },
    "tags": []
   },
   "outputs": [
    {
     "data": {
      "text/plain": [
       "array([{'analysis': [{'lex': 'издательство', 'wt': 1, 'gr': 'S,сред,неод=(вин,ед|им,ед)'}], 'text': 'издательство'},\n",
       "       {'analysis': [{'lex': 'посев', 'wt': 1, 'gr': 'S,муж,неод=(вин,ед|им,ед)'}], 'text': 'посев'},\n",
       "       {'analysis': [{'lex': 'цензурный', 'wt': 1, 'gr': 'A=(вин,мн,полн,неод|им,мн,полн)'}], 'text': 'цензурные'},\n",
       "       {'analysis': [{'lex': 'купюра', 'wt': 1, 'gr': 'S,жен,неод=(вин,мн|род,ед|им,мн)'}], 'text': 'купюры'},\n",
       "       {'analysis': [{'lex': 'из', 'wt': 0.9999999775, 'gr': 'PR='}], 'text': 'из'},\n",
       "       {'analysis': [{'lex': 'журнал', 'wt': 1, 'gr': 'S,муж,неод=род,ед'}], 'text': 'журнала'},\n",
       "       {'analysis': [{'lex': 'москва', 'wt': 1, 'gr': 'S,гео,жен,неод=им,ед'}], 'text': 'москва'},\n",
       "       {'analysis': [{'lex': 'и', 'wt': 0.9999770357, 'gr': 'CONJ='}], 'text': 'и'},\n",
       "       {'analysis': [{'lex': 'выделять', 'wt': 1, 'gr': 'V,пе=прош,мн,прич,кр,сов,страд'}], 'text': 'выделены'},\n",
       "       {'analysis': [{'lex': 'курсив', 'wt': 1, 'gr': 'S,муж,неод=твор,ед'}], 'text': 'курсивом'}],\n",
       "      dtype=object)"
      ]
     },
     "execution_count": 6,
     "metadata": {},
     "output_type": "execute_result"
    }
   ],
   "source": [
    "filter_words_f = lambda x: 'analysis' in x.keys() and len(x['analysis']) != 0\n",
    "filter_words_vf = np.vectorize(filter_words_f)\n",
    "\n",
    "only_words = np.array(list(filter(filter_words_vf, text)))\n",
    "only_words[:10]"
   ]
  },
  {
   "cell_type": "code",
   "execution_count": 7,
   "id": "cda8cbda",
   "metadata": {
    "execution": {
     "iopub.execute_input": "2025-03-11T19:37:27.177729Z",
     "iopub.status.busy": "2025-03-11T19:37:27.177345Z",
     "iopub.status.idle": "2025-03-11T19:37:28.601290Z",
     "shell.execute_reply": "2025-03-11T19:37:28.600171Z"
    },
    "papermill": {
     "duration": 1.442379,
     "end_time": "2025-03-11T19:37:28.603456",
     "exception": false,
     "start_time": "2025-03-11T19:37:27.161077",
     "status": "completed"
    },
    "tags": []
   },
   "outputs": [],
   "source": [
    "text_f = lambda x: (x['analysis'][0]['lex'], x['text'], re.split('\\W+', x['analysis'][0]['gr'])[0], 0 if 'qual' in x['analysis'][0] and x['analysis'][0]['qual'] == 'bastard' else 1)\n",
    "text_vf = np.vectorize(text_f)\n",
    "\n",
    "text_df = pd.DataFrame(np.array(text_vf(only_words)).T, columns=['lemma', 'form', 'pos', 'is_in_mystem_dictionary'])"
   ]
  },
  {
   "cell_type": "code",
   "execution_count": 8,
   "id": "0fb54012",
   "metadata": {
    "execution": {
     "iopub.execute_input": "2025-03-11T19:37:28.636176Z",
     "iopub.status.busy": "2025-03-11T19:37:28.635828Z",
     "iopub.status.idle": "2025-03-11T19:37:28.647638Z",
     "shell.execute_reply": "2025-03-11T19:37:28.646516Z"
    },
    "papermill": {
     "duration": 0.029951,
     "end_time": "2025-03-11T19:37:28.649353",
     "exception": false,
     "start_time": "2025-03-11T19:37:28.619402",
     "status": "completed"
    },
    "tags": []
   },
   "outputs": [
    {
     "data": {
      "text/html": [
       "<div>\n",
       "<style scoped>\n",
       "    .dataframe tbody tr th:only-of-type {\n",
       "        vertical-align: middle;\n",
       "    }\n",
       "\n",
       "    .dataframe tbody tr th {\n",
       "        vertical-align: top;\n",
       "    }\n",
       "\n",
       "    .dataframe thead th {\n",
       "        text-align: right;\n",
       "    }\n",
       "</style>\n",
       "<table border=\"1\" class=\"dataframe\">\n",
       "  <thead>\n",
       "    <tr style=\"text-align: right;\">\n",
       "      <th></th>\n",
       "      <th>lemma</th>\n",
       "      <th>form</th>\n",
       "      <th>pos</th>\n",
       "      <th>is_in_mystem_dictionary</th>\n",
       "    </tr>\n",
       "  </thead>\n",
       "  <tbody>\n",
       "    <tr>\n",
       "      <th>0</th>\n",
       "      <td>издательство</td>\n",
       "      <td>издательство</td>\n",
       "      <td>S</td>\n",
       "      <td>1</td>\n",
       "    </tr>\n",
       "    <tr>\n",
       "      <th>1</th>\n",
       "      <td>посев</td>\n",
       "      <td>посев</td>\n",
       "      <td>S</td>\n",
       "      <td>1</td>\n",
       "    </tr>\n",
       "    <tr>\n",
       "      <th>2</th>\n",
       "      <td>цензурный</td>\n",
       "      <td>цензурные</td>\n",
       "      <td>A</td>\n",
       "      <td>1</td>\n",
       "    </tr>\n",
       "    <tr>\n",
       "      <th>3</th>\n",
       "      <td>купюра</td>\n",
       "      <td>купюры</td>\n",
       "      <td>S</td>\n",
       "      <td>1</td>\n",
       "    </tr>\n",
       "    <tr>\n",
       "      <th>4</th>\n",
       "      <td>из</td>\n",
       "      <td>из</td>\n",
       "      <td>PR</td>\n",
       "      <td>1</td>\n",
       "    </tr>\n",
       "    <tr>\n",
       "      <th>...</th>\n",
       "      <td>...</td>\n",
       "      <td>...</td>\n",
       "      <td>...</td>\n",
       "      <td>...</td>\n",
       "    </tr>\n",
       "    <tr>\n",
       "      <th>261415</th>\n",
       "      <td>фейерверк</td>\n",
       "      <td>фейерверка</td>\n",
       "      <td>S</td>\n",
       "      <td>1</td>\n",
       "    </tr>\n",
       "    <tr>\n",
       "      <th>261416</th>\n",
       "      <td>и</td>\n",
       "      <td>и</td>\n",
       "      <td>CONJ</td>\n",
       "      <td>1</td>\n",
       "    </tr>\n",
       "    <tr>\n",
       "      <th>261417</th>\n",
       "      <td>художественный</td>\n",
       "      <td>художественное</td>\n",
       "      <td>A</td>\n",
       "      <td>1</td>\n",
       "    </tr>\n",
       "    <tr>\n",
       "      <th>261418</th>\n",
       "      <td>оформление</td>\n",
       "      <td>оформление</td>\n",
       "      <td>S</td>\n",
       "      <td>1</td>\n",
       "    </tr>\n",
       "    <tr>\n",
       "      <th>261419</th>\n",
       "      <td>для</td>\n",
       "      <td>для</td>\n",
       "      <td>PR</td>\n",
       "      <td>1</td>\n",
       "    </tr>\n",
       "  </tbody>\n",
       "</table>\n",
       "<p>261420 rows × 4 columns</p>\n",
       "</div>"
      ],
      "text/plain": [
       "                 lemma            form   pos is_in_mystem_dictionary\n",
       "0         издательство    издательство     S                       1\n",
       "1                посев           посев     S                       1\n",
       "2            цензурный       цензурные     A                       1\n",
       "3               купюра          купюры     S                       1\n",
       "4                   из              из    PR                       1\n",
       "...                ...             ...   ...                     ...\n",
       "261415       фейерверк      фейерверка     S                       1\n",
       "261416               и               и  CONJ                       1\n",
       "261417  художественный  художественное     A                       1\n",
       "261418      оформление      оформление     S                       1\n",
       "261419             для             для    PR                       1\n",
       "\n",
       "[261420 rows x 4 columns]"
      ]
     },
     "execution_count": 8,
     "metadata": {},
     "output_type": "execute_result"
    }
   ],
   "source": [
    "text_df"
   ]
  },
  {
   "cell_type": "code",
   "execution_count": 9,
   "id": "f3b4cfa9",
   "metadata": {
    "execution": {
     "iopub.execute_input": "2025-03-11T19:37:28.680210Z",
     "iopub.status.busy": "2025-03-11T19:37:28.679855Z",
     "iopub.status.idle": "2025-03-11T19:37:28.810622Z",
     "shell.execute_reply": "2025-03-11T19:37:28.809680Z"
    },
    "papermill": {
     "duration": 0.148355,
     "end_time": "2025-03-11T19:37:28.812560",
     "exception": false,
     "start_time": "2025-03-11T19:37:28.664205",
     "status": "completed"
    },
    "tags": []
   },
   "outputs": [
    {
     "data": {
      "text/plain": [
       "lemma                      18882\n",
       "form                       48005\n",
       "pos                           14\n",
       "is_in_mystem_dictionary        2\n",
       "dtype: int64"
      ]
     },
     "execution_count": 9,
     "metadata": {},
     "output_type": "execute_result"
    }
   ],
   "source": [
    "text_df.nunique()"
   ]
  },
  {
   "cell_type": "markdown",
   "id": "739e4137",
   "metadata": {
    "papermill": {
     "duration": 0.014426,
     "end_time": "2025-03-11T19:37:28.841964",
     "exception": false,
     "start_time": "2025-03-11T19:37:28.827538",
     "status": "completed"
    },
    "tags": []
   },
   "source": [
    "Соотношение тегов:"
   ]
  },
  {
   "cell_type": "code",
   "execution_count": 10,
   "id": "d1240adc",
   "metadata": {
    "execution": {
     "iopub.execute_input": "2025-03-11T19:37:28.872979Z",
     "iopub.status.busy": "2025-03-11T19:37:28.872569Z",
     "iopub.status.idle": "2025-03-11T19:37:29.263745Z",
     "shell.execute_reply": "2025-03-11T19:37:29.262591Z"
    },
    "papermill": {
     "duration": 0.408637,
     "end_time": "2025-03-11T19:37:29.265415",
     "exception": false,
     "start_time": "2025-03-11T19:37:28.856778",
     "status": "completed"
    },
    "tags": []
   },
   "outputs": [
    {
     "data": {
      "text/plain": [
       "array(['NOUN', 'ADVB', 'ADJF', 'ADJS', 'COMP', 'VERB', 'INFN', 'PRTF',\n",
       "       'PRTS', 'GRND', 'CONJ', 'INTJ', 'PRCL', 'PREP', 'PRED', 'NUMR',\n",
       "       'NPRO'], dtype=object)"
      ]
     },
     "execution_count": 10,
     "metadata": {},
     "output_type": "execute_result"
    }
   ],
   "source": [
    "dictionary['pos'].unique()"
   ]
  },
  {
   "cell_type": "code",
   "execution_count": 11,
   "id": "c577ac28",
   "metadata": {
    "execution": {
     "iopub.execute_input": "2025-03-11T19:37:29.296594Z",
     "iopub.status.busy": "2025-03-11T19:37:29.296205Z",
     "iopub.status.idle": "2025-03-11T19:37:29.300886Z",
     "shell.execute_reply": "2025-03-11T19:37:29.299969Z"
    },
    "papermill": {
     "duration": 0.021832,
     "end_time": "2025-03-11T19:37:29.302348",
     "exception": false,
     "start_time": "2025-03-11T19:37:29.280516",
     "status": "completed"
    },
    "tags": []
   },
   "outputs": [],
   "source": [
    "opencorpora_decoding = {\n",
    "    'NOUN': 'существительное',\n",
    "    'ADVB': 'наречие',\n",
    "    'ADJF': 'прилагательное',\n",
    "    'ADJS': 'прилагательное',\n",
    "    'COMP': 'наречие',\n",
    "    'VERB': 'глагол',\n",
    "    'INFN': 'глагол',\n",
    "    'PRTF': 'прилагательное',\n",
    "    'PRTS': 'прилагательное',\n",
    "    'GRND': 'прилагательное',\n",
    "    'CONJ': 'союз',\n",
    "    'INTJ': 'междометие',\n",
    "    'PRCL': 'частица',\n",
    "    'PREP': 'предлог',\n",
    "    'PRED': 'наречие',\n",
    "    'NUMR': 'числительное',\n",
    "    'NPRO': 'местоимение'\n",
    "}"
   ]
  },
  {
   "cell_type": "code",
   "execution_count": 12,
   "id": "ce3ec412",
   "metadata": {
    "execution": {
     "iopub.execute_input": "2025-03-11T19:37:29.334292Z",
     "iopub.status.busy": "2025-03-11T19:37:29.333919Z",
     "iopub.status.idle": "2025-03-11T19:37:29.338422Z",
     "shell.execute_reply": "2025-03-11T19:37:29.337252Z"
    },
    "papermill": {
     "duration": 0.022137,
     "end_time": "2025-03-11T19:37:29.340126",
     "exception": false,
     "start_time": "2025-03-11T19:37:29.317989",
     "status": "completed"
    },
    "tags": []
   },
   "outputs": [],
   "source": [
    "opencorpora_parse_f = lambda x: opencorpora_decoding[x]\n",
    "opencorpora_parse_vf = np.vectorize(opencorpora_parse_f)"
   ]
  },
  {
   "cell_type": "code",
   "execution_count": 13,
   "id": "d1d024ff",
   "metadata": {
    "execution": {
     "iopub.execute_input": "2025-03-11T19:37:29.371706Z",
     "iopub.status.busy": "2025-03-11T19:37:29.371326Z",
     "iopub.status.idle": "2025-03-11T19:37:32.084859Z",
     "shell.execute_reply": "2025-03-11T19:37:32.083819Z"
    },
    "papermill": {
     "duration": 2.731421,
     "end_time": "2025-03-11T19:37:32.086581",
     "exception": false,
     "start_time": "2025-03-11T19:37:29.355160",
     "status": "completed"
    },
    "tags": []
   },
   "outputs": [
    {
     "data": {
      "text/html": [
       "<div>\n",
       "<style scoped>\n",
       "    .dataframe tbody tr th:only-of-type {\n",
       "        vertical-align: middle;\n",
       "    }\n",
       "\n",
       "    .dataframe tbody tr th {\n",
       "        vertical-align: top;\n",
       "    }\n",
       "\n",
       "    .dataframe thead th {\n",
       "        text-align: right;\n",
       "    }\n",
       "</style>\n",
       "<table border=\"1\" class=\"dataframe\">\n",
       "  <thead>\n",
       "    <tr style=\"text-align: right;\">\n",
       "      <th></th>\n",
       "      <th>lemma_id</th>\n",
       "      <th>lemma</th>\n",
       "      <th>form</th>\n",
       "      <th>pos</th>\n",
       "    </tr>\n",
       "  </thead>\n",
       "  <tbody>\n",
       "    <tr>\n",
       "      <th>0</th>\n",
       "      <td>1</td>\n",
       "      <td>еж</td>\n",
       "      <td>еж</td>\n",
       "      <td>существительное</td>\n",
       "    </tr>\n",
       "    <tr>\n",
       "      <th>1</th>\n",
       "      <td>1</td>\n",
       "      <td>еж</td>\n",
       "      <td>ежа</td>\n",
       "      <td>существительное</td>\n",
       "    </tr>\n",
       "    <tr>\n",
       "      <th>2</th>\n",
       "      <td>1</td>\n",
       "      <td>еж</td>\n",
       "      <td>ежу</td>\n",
       "      <td>существительное</td>\n",
       "    </tr>\n",
       "    <tr>\n",
       "      <th>3</th>\n",
       "      <td>1</td>\n",
       "      <td>еж</td>\n",
       "      <td>ежа</td>\n",
       "      <td>существительное</td>\n",
       "    </tr>\n",
       "    <tr>\n",
       "      <th>4</th>\n",
       "      <td>1</td>\n",
       "      <td>еж</td>\n",
       "      <td>ежом</td>\n",
       "      <td>существительное</td>\n",
       "    </tr>\n",
       "    <tr>\n",
       "      <th>...</th>\n",
       "      <td>...</td>\n",
       "      <td>...</td>\n",
       "      <td>...</td>\n",
       "      <td>...</td>\n",
       "    </tr>\n",
       "    <tr>\n",
       "      <th>5141288</th>\n",
       "      <td>395250</td>\n",
       "      <td>направляющая</td>\n",
       "      <td>направляющих</td>\n",
       "      <td>существительное</td>\n",
       "    </tr>\n",
       "    <tr>\n",
       "      <th>5141289</th>\n",
       "      <td>395250</td>\n",
       "      <td>направляющая</td>\n",
       "      <td>направляющим</td>\n",
       "      <td>существительное</td>\n",
       "    </tr>\n",
       "    <tr>\n",
       "      <th>5141290</th>\n",
       "      <td>395250</td>\n",
       "      <td>направляющая</td>\n",
       "      <td>направляющие</td>\n",
       "      <td>существительное</td>\n",
       "    </tr>\n",
       "    <tr>\n",
       "      <th>5141291</th>\n",
       "      <td>395250</td>\n",
       "      <td>направляющая</td>\n",
       "      <td>направляющими</td>\n",
       "      <td>существительное</td>\n",
       "    </tr>\n",
       "    <tr>\n",
       "      <th>5141292</th>\n",
       "      <td>395250</td>\n",
       "      <td>направляющая</td>\n",
       "      <td>направляющих</td>\n",
       "      <td>существительное</td>\n",
       "    </tr>\n",
       "  </tbody>\n",
       "</table>\n",
       "<p>5141293 rows × 4 columns</p>\n",
       "</div>"
      ],
      "text/plain": [
       "        lemma_id         lemma           form              pos\n",
       "0              1            еж             еж  существительное\n",
       "1              1            еж            ежа  существительное\n",
       "2              1            еж            ежу  существительное\n",
       "3              1            еж            ежа  существительное\n",
       "4              1            еж           ежом  существительное\n",
       "...          ...           ...            ...              ...\n",
       "5141288   395250  направляющая   направляющих  существительное\n",
       "5141289   395250  направляющая   направляющим  существительное\n",
       "5141290   395250  направляющая   направляющие  существительное\n",
       "5141291   395250  направляющая  направляющими  существительное\n",
       "5141292   395250  направляющая   направляющих  существительное\n",
       "\n",
       "[5141293 rows x 4 columns]"
      ]
     },
     "execution_count": 13,
     "metadata": {},
     "output_type": "execute_result"
    }
   ],
   "source": [
    "dictionary['pos'] = opencorpora_parse_vf(dictionary['pos'])\n",
    "dictionary"
   ]
  },
  {
   "cell_type": "code",
   "execution_count": 14,
   "id": "51d37046",
   "metadata": {
    "execution": {
     "iopub.execute_input": "2025-03-11T19:37:32.118131Z",
     "iopub.status.busy": "2025-03-11T19:37:32.117784Z",
     "iopub.status.idle": "2025-03-11T19:37:33.063964Z",
     "shell.execute_reply": "2025-03-11T19:37:33.062813Z"
    },
    "papermill": {
     "duration": 0.963788,
     "end_time": "2025-03-11T19:37:33.065786",
     "exception": false,
     "start_time": "2025-03-11T19:37:32.101998",
     "status": "completed"
    },
    "tags": []
   },
   "outputs": [
    {
     "data": {
      "text/plain": [
       "array(['существительное', 'наречие', 'прилагательное', 'глагол', 'союз',\n",
       "       'междометие', 'частица', 'предлог', 'числительное', 'местоимение'],\n",
       "      dtype=object)"
      ]
     },
     "execution_count": 14,
     "metadata": {},
     "output_type": "execute_result"
    }
   ],
   "source": [
    "dictionary['pos'].unique()"
   ]
  },
  {
   "cell_type": "code",
   "execution_count": 15,
   "id": "ef7c50dc",
   "metadata": {
    "execution": {
     "iopub.execute_input": "2025-03-11T19:37:33.098454Z",
     "iopub.status.busy": "2025-03-11T19:37:33.097988Z",
     "iopub.status.idle": "2025-03-11T19:37:33.125590Z",
     "shell.execute_reply": "2025-03-11T19:37:33.124430Z"
    },
    "papermill": {
     "duration": 0.045811,
     "end_time": "2025-03-11T19:37:33.127359",
     "exception": false,
     "start_time": "2025-03-11T19:37:33.081548",
     "status": "completed"
    },
    "tags": []
   },
   "outputs": [
    {
     "data": {
      "text/plain": [
       "array(['S', 'A', 'PR', 'CONJ', 'V', 'APRO', 'ADV', 'SPRO', 'PART',\n",
       "       'ADVPRO', 'ANUM', 'NUM', 'INTJ', 'COM'], dtype=object)"
      ]
     },
     "execution_count": 15,
     "metadata": {},
     "output_type": "execute_result"
    }
   ],
   "source": [
    "text_df['pos'].unique()"
   ]
  },
  {
   "cell_type": "code",
   "execution_count": 16,
   "id": "63ccce5e",
   "metadata": {
    "execution": {
     "iopub.execute_input": "2025-03-11T19:37:33.167077Z",
     "iopub.status.busy": "2025-03-11T19:37:33.166566Z",
     "iopub.status.idle": "2025-03-11T19:37:33.172324Z",
     "shell.execute_reply": "2025-03-11T19:37:33.171213Z"
    },
    "papermill": {
     "duration": 0.031034,
     "end_time": "2025-03-11T19:37:33.174131",
     "exception": false,
     "start_time": "2025-03-11T19:37:33.143097",
     "status": "completed"
    },
    "tags": []
   },
   "outputs": [],
   "source": [
    "mystem_decoding = {\n",
    "    'S': 'существительное',\n",
    "    'ADV': 'наречие',\n",
    "    'A': 'прилагательное',\n",
    "    'COM': 'наречие',\n",
    "    'V': 'глагол',\n",
    "    'CONJ': 'союз',\n",
    "    'INTJ': 'междометие',\n",
    "    'PART': 'частица',\n",
    "    'PR': 'предлог',\n",
    "    'ADVPRO': 'местоимение',\n",
    "    'ANUM': 'числительное',\n",
    "    'NUM': 'числительное',\n",
    "    'APRO': 'местоимение',\n",
    "    'SPRO': 'местоимение'\n",
    "}"
   ]
  },
  {
   "cell_type": "code",
   "execution_count": 17,
   "id": "068a097e",
   "metadata": {
    "execution": {
     "iopub.execute_input": "2025-03-11T19:37:33.216150Z",
     "iopub.status.busy": "2025-03-11T19:37:33.215626Z",
     "iopub.status.idle": "2025-03-11T19:37:33.221076Z",
     "shell.execute_reply": "2025-03-11T19:37:33.219786Z"
    },
    "papermill": {
     "duration": 0.02863,
     "end_time": "2025-03-11T19:37:33.223141",
     "exception": false,
     "start_time": "2025-03-11T19:37:33.194511",
     "status": "completed"
    },
    "tags": []
   },
   "outputs": [],
   "source": [
    "mystem_parse_f = lambda x: mystem_decoding[x]\n",
    "mystem_parse_vf = np.vectorize(mystem_parse_f)"
   ]
  },
  {
   "cell_type": "code",
   "execution_count": 18,
   "id": "572f3677",
   "metadata": {
    "execution": {
     "iopub.execute_input": "2025-03-11T19:37:33.262268Z",
     "iopub.status.busy": "2025-03-11T19:37:33.261927Z",
     "iopub.status.idle": "2025-03-11T19:37:33.423528Z",
     "shell.execute_reply": "2025-03-11T19:37:33.422592Z"
    },
    "papermill": {
     "duration": 0.183031,
     "end_time": "2025-03-11T19:37:33.425381",
     "exception": false,
     "start_time": "2025-03-11T19:37:33.242350",
     "status": "completed"
    },
    "tags": []
   },
   "outputs": [
    {
     "data": {
      "text/html": [
       "<div>\n",
       "<style scoped>\n",
       "    .dataframe tbody tr th:only-of-type {\n",
       "        vertical-align: middle;\n",
       "    }\n",
       "\n",
       "    .dataframe tbody tr th {\n",
       "        vertical-align: top;\n",
       "    }\n",
       "\n",
       "    .dataframe thead th {\n",
       "        text-align: right;\n",
       "    }\n",
       "</style>\n",
       "<table border=\"1\" class=\"dataframe\">\n",
       "  <thead>\n",
       "    <tr style=\"text-align: right;\">\n",
       "      <th></th>\n",
       "      <th>lemma</th>\n",
       "      <th>form</th>\n",
       "      <th>pos</th>\n",
       "      <th>is_in_mystem_dictionary</th>\n",
       "    </tr>\n",
       "  </thead>\n",
       "  <tbody>\n",
       "    <tr>\n",
       "      <th>0</th>\n",
       "      <td>издательство</td>\n",
       "      <td>издательство</td>\n",
       "      <td>существительное</td>\n",
       "      <td>1</td>\n",
       "    </tr>\n",
       "    <tr>\n",
       "      <th>1</th>\n",
       "      <td>посев</td>\n",
       "      <td>посев</td>\n",
       "      <td>существительное</td>\n",
       "      <td>1</td>\n",
       "    </tr>\n",
       "    <tr>\n",
       "      <th>2</th>\n",
       "      <td>цензурный</td>\n",
       "      <td>цензурные</td>\n",
       "      <td>прилагательное</td>\n",
       "      <td>1</td>\n",
       "    </tr>\n",
       "    <tr>\n",
       "      <th>3</th>\n",
       "      <td>купюра</td>\n",
       "      <td>купюры</td>\n",
       "      <td>существительное</td>\n",
       "      <td>1</td>\n",
       "    </tr>\n",
       "    <tr>\n",
       "      <th>4</th>\n",
       "      <td>из</td>\n",
       "      <td>из</td>\n",
       "      <td>предлог</td>\n",
       "      <td>1</td>\n",
       "    </tr>\n",
       "    <tr>\n",
       "      <th>...</th>\n",
       "      <td>...</td>\n",
       "      <td>...</td>\n",
       "      <td>...</td>\n",
       "      <td>...</td>\n",
       "    </tr>\n",
       "    <tr>\n",
       "      <th>261415</th>\n",
       "      <td>фейерверк</td>\n",
       "      <td>фейерверка</td>\n",
       "      <td>существительное</td>\n",
       "      <td>1</td>\n",
       "    </tr>\n",
       "    <tr>\n",
       "      <th>261416</th>\n",
       "      <td>и</td>\n",
       "      <td>и</td>\n",
       "      <td>союз</td>\n",
       "      <td>1</td>\n",
       "    </tr>\n",
       "    <tr>\n",
       "      <th>261417</th>\n",
       "      <td>художественный</td>\n",
       "      <td>художественное</td>\n",
       "      <td>прилагательное</td>\n",
       "      <td>1</td>\n",
       "    </tr>\n",
       "    <tr>\n",
       "      <th>261418</th>\n",
       "      <td>оформление</td>\n",
       "      <td>оформление</td>\n",
       "      <td>существительное</td>\n",
       "      <td>1</td>\n",
       "    </tr>\n",
       "    <tr>\n",
       "      <th>261419</th>\n",
       "      <td>для</td>\n",
       "      <td>для</td>\n",
       "      <td>предлог</td>\n",
       "      <td>1</td>\n",
       "    </tr>\n",
       "  </tbody>\n",
       "</table>\n",
       "<p>261420 rows × 4 columns</p>\n",
       "</div>"
      ],
      "text/plain": [
       "                 lemma            form              pos  \\\n",
       "0         издательство    издательство  существительное   \n",
       "1                посев           посев  существительное   \n",
       "2            цензурный       цензурные   прилагательное   \n",
       "3               купюра          купюры  существительное   \n",
       "4                   из              из          предлог   \n",
       "...                ...             ...              ...   \n",
       "261415       фейерверк      фейерверка  существительное   \n",
       "261416               и               и             союз   \n",
       "261417  художественный  художественное   прилагательное   \n",
       "261418      оформление      оформление  существительное   \n",
       "261419             для             для          предлог   \n",
       "\n",
       "       is_in_mystem_dictionary  \n",
       "0                            1  \n",
       "1                            1  \n",
       "2                            1  \n",
       "3                            1  \n",
       "4                            1  \n",
       "...                        ...  \n",
       "261415                       1  \n",
       "261416                       1  \n",
       "261417                       1  \n",
       "261418                       1  \n",
       "261419                       1  \n",
       "\n",
       "[261420 rows x 4 columns]"
      ]
     },
     "execution_count": 18,
     "metadata": {},
     "output_type": "execute_result"
    }
   ],
   "source": [
    "text_df['pos'] = mystem_parse_vf(text_df['pos'])\n",
    "text_df"
   ]
  },
  {
   "cell_type": "code",
   "execution_count": 19,
   "id": "e38f3674",
   "metadata": {
    "execution": {
     "iopub.execute_input": "2025-03-11T19:37:33.458150Z",
     "iopub.status.busy": "2025-03-11T19:37:33.457655Z",
     "iopub.status.idle": "2025-03-11T19:37:33.512762Z",
     "shell.execute_reply": "2025-03-11T19:37:33.511632Z"
    },
    "papermill": {
     "duration": 0.073417,
     "end_time": "2025-03-11T19:37:33.514472",
     "exception": false,
     "start_time": "2025-03-11T19:37:33.441055",
     "status": "completed"
    },
    "tags": []
   },
   "outputs": [
    {
     "data": {
      "text/plain": [
       "array(['существительное', 'прилагательное', 'предлог', 'союз', 'глагол',\n",
       "       'местоимение', 'наречие', 'частица', 'числительное', 'междометие'],\n",
       "      dtype=object)"
      ]
     },
     "execution_count": 19,
     "metadata": {},
     "output_type": "execute_result"
    }
   ],
   "source": [
    "text_df['pos'].unique()"
   ]
  },
  {
   "cell_type": "markdown",
   "id": "9583a277",
   "metadata": {
    "papermill": {
     "duration": 0.015387,
     "end_time": "2025-03-11T19:37:33.545623",
     "exception": false,
     "start_time": "2025-03-11T19:37:33.530236",
     "status": "completed"
    },
    "tags": []
   },
   "source": [
    "**\"Разреженность данных\" в коллекциях/корпусах текстов**"
   ]
  },
  {
   "cell_type": "markdown",
   "id": "ae7a82c9",
   "metadata": {
    "papermill": {
     "duration": 0.01517,
     "end_time": "2025-03-11T19:37:33.576300",
     "exception": false,
     "start_time": "2025-03-11T19:37:33.561130",
     "status": "completed"
    },
    "tags": []
   },
   "source": [
    "Статистики, посчитанные по полному совпадению словоформ, лемм и частей речи, определенных морфоанализатором и словарём:"
   ]
  },
  {
   "cell_type": "code",
   "execution_count": 20,
   "id": "80f080c2",
   "metadata": {
    "execution": {
     "iopub.execute_input": "2025-03-11T19:37:33.609310Z",
     "iopub.status.busy": "2025-03-11T19:37:33.608767Z",
     "iopub.status.idle": "2025-03-11T19:37:46.963951Z",
     "shell.execute_reply": "2025-03-11T19:37:46.962922Z"
    },
    "papermill": {
     "duration": 13.374309,
     "end_time": "2025-03-11T19:37:46.965944",
     "exception": false,
     "start_time": "2025-03-11T19:37:33.591635",
     "status": "completed"
    },
    "tags": []
   },
   "outputs": [],
   "source": [
    "dictionary_set = set(map(tuple, dictionary[['lemma', 'form', 'pos']].values)) \n",
    "text_set = set(map(tuple, text_df[['lemma', 'form', 'pos']].values)) \n",
    "\n",
    "missing_words = pd.DataFrame(list(dictionary_set.difference(text_set)), columns=['lemma', 'form', 'pos'])"
   ]
  },
  {
   "cell_type": "code",
   "execution_count": 21,
   "id": "d75055e2",
   "metadata": {
    "execution": {
     "iopub.execute_input": "2025-03-11T19:37:46.998565Z",
     "iopub.status.busy": "2025-03-11T19:37:46.998179Z",
     "iopub.status.idle": "2025-03-11T19:37:49.918574Z",
     "shell.execute_reply": "2025-03-11T19:37:49.917383Z"
    },
    "papermill": {
     "duration": 2.938424,
     "end_time": "2025-03-11T19:37:49.920297",
     "exception": false,
     "start_time": "2025-03-11T19:37:46.981873",
     "status": "completed"
    },
    "tags": []
   },
   "outputs": [
    {
     "name": "stdout",
     "output_type": "stream",
     "text": [
      "Всего в текстах отсутствует словоформ: 3113689\n",
      "Всего в текстах отсутствует лемм: 378235\n",
      "В текстах отсутствует словоформ в процентах: 60.56237215035206\n",
      "В текстах отсутствует лемм в процентах: 99.38723010665665\n"
     ]
    }
   ],
   "source": [
    "print('Всего в текстах отсутствует словоформ:', missing_words.shape[0])\n",
    "print('Всего в текстах отсутствует лемм:', len(missing_words['lemma'].unique()))\n",
    "print('В текстах отсутствует словоформ в процентах:', missing_words.shape[0]/dictionary.shape[0]*100)\n",
    "print('В текстах отсутствует лемм в процентах:', len(missing_words['lemma'].unique())/len(dictionary['lemma'].unique())*100)"
   ]
  },
  {
   "cell_type": "markdown",
   "id": "476a2a03",
   "metadata": {
    "papermill": {
     "duration": 0.015616,
     "end_time": "2025-03-11T19:37:49.952843",
     "exception": false,
     "start_time": "2025-03-11T19:37:49.937227",
     "status": "completed"
    },
    "tags": []
   },
   "source": [
    "Частотность частей речи отсутствующих слов в порядке убывания (абсолютное значение):"
   ]
  },
  {
   "cell_type": "code",
   "execution_count": 22,
   "id": "8818ec1d",
   "metadata": {
    "execution": {
     "iopub.execute_input": "2025-03-11T19:37:49.985891Z",
     "iopub.status.busy": "2025-03-11T19:37:49.985507Z",
     "iopub.status.idle": "2025-03-11T19:37:50.781858Z",
     "shell.execute_reply": "2025-03-11T19:37:50.780786Z"
    },
    "papermill": {
     "duration": 0.814985,
     "end_time": "2025-03-11T19:37:50.783646",
     "exception": false,
     "start_time": "2025-03-11T19:37:49.968661",
     "status": "completed"
    },
    "tags": []
   },
   "outputs": [
    {
     "data": {
      "text/plain": [
       "pos\n",
       "прилагательное     1585190\n",
       "существительное    1038779\n",
       "глагол              426374\n",
       "наречие              62601\n",
       "междометие             266\n",
       "союз                   143\n",
       "числительное           138\n",
       "частица                 72\n",
       "местоимение             67\n",
       "предлог                 59\n",
       "Name: count, dtype: int64"
      ]
     },
     "execution_count": 22,
     "metadata": {},
     "output_type": "execute_result"
    }
   ],
   "source": [
    "missing_words['pos'].value_counts()"
   ]
  },
  {
   "cell_type": "code",
   "execution_count": 23,
   "id": "2521aba5",
   "metadata": {
    "execution": {
     "iopub.execute_input": "2025-03-11T19:37:50.817300Z",
     "iopub.status.busy": "2025-03-11T19:37:50.816956Z",
     "iopub.status.idle": "2025-03-11T19:37:52.022507Z",
     "shell.execute_reply": "2025-03-11T19:37:52.021283Z"
    },
    "papermill": {
     "duration": 1.224331,
     "end_time": "2025-03-11T19:37:52.024300",
     "exception": false,
     "start_time": "2025-03-11T19:37:50.799969",
     "status": "completed"
    },
    "tags": []
   },
   "outputs": [
    {
     "data": {
      "image/png": "[encoded data removed]",
      "text/plain": [
       "<Figure size 640x480 with 1 Axes>"
      ]
     },
     "metadata": {},
     "output_type": "display_data"
    }
   ],
   "source": [
    "ax = missing_words['pos'].value_counts().plot.bar()\n",
    "for container in ax.containers:\n",
    "    ax.bar_label(container)"
   ]
  },
  {
   "cell_type": "code",
   "execution_count": 24,
   "id": "3e48ddc8",
   "metadata": {
    "execution": {
     "iopub.execute_input": "2025-03-11T19:37:52.059959Z",
     "iopub.status.busy": "2025-03-11T19:37:52.059563Z",
     "iopub.status.idle": "2025-03-11T19:37:53.250217Z",
     "shell.execute_reply": "2025-03-11T19:37:53.249366Z"
    },
    "papermill": {
     "duration": 1.210764,
     "end_time": "2025-03-11T19:37:53.252070",
     "exception": false,
     "start_time": "2025-03-11T19:37:52.041306",
     "status": "completed"
    },
    "tags": []
   },
   "outputs": [],
   "source": [
    "pos_counts = pd.concat([missing_words['pos'].value_counts(), dictionary['pos'].value_counts()], axis = 1, ignore_index=True)"
   ]
  },
  {
   "cell_type": "markdown",
   "id": "4a37ca5f",
   "metadata": {
    "papermill": {
     "duration": 0.016313,
     "end_time": "2025-03-11T19:37:53.285268",
     "exception": false,
     "start_time": "2025-03-11T19:37:53.268955",
     "status": "completed"
    },
    "tags": []
   },
   "source": [
    "Частотность частей речи отсутствующих слов в порядке убывания (относительное значение):"
   ]
  },
  {
   "cell_type": "code",
   "execution_count": 25,
   "id": "0dc6e51f",
   "metadata": {
    "execution": {
     "iopub.execute_input": "2025-03-11T19:37:53.378245Z",
     "iopub.status.busy": "2025-03-11T19:37:53.377849Z",
     "iopub.status.idle": "2025-03-11T19:37:53.386379Z",
     "shell.execute_reply": "2025-03-11T19:37:53.385352Z"
    },
    "papermill": {
     "duration": 0.085962,
     "end_time": "2025-03-11T19:37:53.387952",
     "exception": false,
     "start_time": "2025-03-11T19:37:53.301990",
     "status": "completed"
    },
    "tags": []
   },
   "outputs": [
    {
     "data": {
      "text/plain": [
       "pos\n",
       "наречие            97.474425\n",
       "глагол             94.400496\n",
       "междометие         86.363636\n",
       "союз               73.333333\n",
       "существительное    72.496996\n",
       "частица            52.554745\n",
       "прилагательное     49.675705\n",
       "предлог            42.142857\n",
       "числительное       33.333333\n",
       "местоимение        24.275362\n",
       "dtype: float64"
      ]
     },
     "execution_count": 25,
     "metadata": {},
     "output_type": "execute_result"
    }
   ],
   "source": [
    "(pos_counts[0]/pos_counts[1]*100).sort_values(ascending=False)"
   ]
  },
  {
   "cell_type": "code",
   "execution_count": 26,
   "id": "f7c07424",
   "metadata": {
    "execution": {
     "iopub.execute_input": "2025-03-11T19:37:53.423072Z",
     "iopub.status.busy": "2025-03-11T19:37:53.422736Z",
     "iopub.status.idle": "2025-03-11T19:37:53.687131Z",
     "shell.execute_reply": "2025-03-11T19:37:53.685929Z"
    },
    "papermill": {
     "duration": 0.283929,
     "end_time": "2025-03-11T19:37:53.688888",
     "exception": false,
     "start_time": "2025-03-11T19:37:53.404959",
     "status": "completed"
    },
    "tags": []
   },
   "outputs": [
    {
     "data": {
      "image/png": "[encoded data removed]",
      "text/plain": [
       "<Figure size 640x480 with 1 Axes>"
      ]
     },
     "metadata": {},
     "output_type": "display_data"
    }
   ],
   "source": [
    "ax = (pos_counts[0]/pos_counts[1]*100).sort_values(ascending=False).plot.bar()\n",
    "for container in ax.containers:\n",
    "    ax.bar_label(container)"
   ]
  },
  {
   "cell_type": "markdown",
   "id": "3024c87d",
   "metadata": {
    "papermill": {
     "duration": 0.017712,
     "end_time": "2025-03-11T19:37:53.725257",
     "exception": false,
     "start_time": "2025-03-11T19:37:53.707545",
     "status": "completed"
    },
    "tags": []
   },
   "source": [
    "Примеры отсутствующих лемм и словоформ разных частей речи:"
   ]
  },
  {
   "cell_type": "code",
   "execution_count": 27,
   "id": "514f9171",
   "metadata": {
    "execution": {
     "iopub.execute_input": "2025-03-11T19:37:53.762954Z",
     "iopub.status.busy": "2025-03-11T19:37:53.762532Z",
     "iopub.status.idle": "2025-03-11T19:37:54.505508Z",
     "shell.execute_reply": "2025-03-11T19:37:54.504529Z"
    },
    "papermill": {
     "duration": 0.76371,
     "end_time": "2025-03-11T19:37:54.507159",
     "exception": false,
     "start_time": "2025-03-11T19:37:53.743449",
     "status": "completed"
    },
    "tags": []
   },
   "outputs": [
    {
     "data": {
      "text/html": [
       "<div>\n",
       "<style scoped>\n",
       "    .dataframe tbody tr th:only-of-type {\n",
       "        vertical-align: middle;\n",
       "    }\n",
       "\n",
       "    .dataframe tbody tr th {\n",
       "        vertical-align: top;\n",
       "    }\n",
       "\n",
       "    .dataframe thead th {\n",
       "        text-align: right;\n",
       "    }\n",
       "</style>\n",
       "<table border=\"1\" class=\"dataframe\">\n",
       "  <thead>\n",
       "    <tr style=\"text-align: right;\">\n",
       "      <th></th>\n",
       "      <th>lemma</th>\n",
       "      <th>form</th>\n",
       "      <th>pos</th>\n",
       "    </tr>\n",
       "  </thead>\n",
       "  <tbody>\n",
       "    <tr>\n",
       "      <th>0</th>\n",
       "      <td>возвратно-поступательный</td>\n",
       "      <td>возвратно-поступательным</td>\n",
       "      <td>прилагательное</td>\n",
       "    </tr>\n",
       "    <tr>\n",
       "      <th>1</th>\n",
       "      <td>иеговович</td>\n",
       "      <td>иегововиче</td>\n",
       "      <td>существительное</td>\n",
       "    </tr>\n",
       "    <tr>\n",
       "      <th>19</th>\n",
       "      <td>строчусь</td>\n",
       "      <td>строчитесь</td>\n",
       "      <td>глагол</td>\n",
       "    </tr>\n",
       "    <tr>\n",
       "      <th>48</th>\n",
       "      <td>пухлявее</td>\n",
       "      <td>попухлявее</td>\n",
       "      <td>наречие</td>\n",
       "    </tr>\n",
       "    <tr>\n",
       "      <th>2326</th>\n",
       "      <td>семнадцать</td>\n",
       "      <td>семнадцать</td>\n",
       "      <td>числительное</td>\n",
       "    </tr>\n",
       "    <tr>\n",
       "      <th>8775</th>\n",
       "      <td>вероятно</td>\n",
       "      <td>вероятно</td>\n",
       "      <td>союз</td>\n",
       "    </tr>\n",
       "    <tr>\n",
       "      <th>13500</th>\n",
       "      <td>снизу</td>\n",
       "      <td>снизу</td>\n",
       "      <td>предлог</td>\n",
       "    </tr>\n",
       "    <tr>\n",
       "      <th>26594</th>\n",
       "      <td>бах</td>\n",
       "      <td>бах</td>\n",
       "      <td>междометие</td>\n",
       "    </tr>\n",
       "    <tr>\n",
       "      <th>49780</th>\n",
       "      <td>всякое</td>\n",
       "      <td>всяком</td>\n",
       "      <td>местоимение</td>\n",
       "    </tr>\n",
       "    <tr>\n",
       "      <th>89466</th>\n",
       "      <td>хрен</td>\n",
       "      <td>хрен</td>\n",
       "      <td>частица</td>\n",
       "    </tr>\n",
       "  </tbody>\n",
       "</table>\n",
       "</div>"
      ],
      "text/plain": [
       "                          lemma                      form              pos\n",
       "0      возвратно-поступательный  возвратно-поступательным   прилагательное\n",
       "1                     иеговович                иегововиче  существительное\n",
       "19                     строчусь                строчитесь           глагол\n",
       "48                     пухлявее                попухлявее          наречие\n",
       "2326                 семнадцать                семнадцать     числительное\n",
       "8775                   вероятно                  вероятно             союз\n",
       "13500                     снизу                     снизу          предлог\n",
       "26594                       бах                       бах       междометие\n",
       "49780                    всякое                    всяком      местоимение\n",
       "89466                      хрен                      хрен          частица"
      ]
     },
     "execution_count": 27,
     "metadata": {},
     "output_type": "execute_result"
    }
   ],
   "source": [
    "missing_words.drop_duplicates(subset=['pos'])"
   ]
  },
  {
   "cell_type": "markdown",
   "id": "b657b141",
   "metadata": {
    "papermill": {
     "duration": 0.017543,
     "end_time": "2025-03-11T19:37:54.543059",
     "exception": false,
     "start_time": "2025-03-11T19:37:54.525516",
     "status": "completed"
    },
    "tags": []
   },
   "source": [
    "Статистики, посчитанные только по полному совпадению словоформ и лемм, определенных морфоанализатором и словарём:"
   ]
  },
  {
   "cell_type": "code",
   "execution_count": 28,
   "id": "e3a31e25",
   "metadata": {
    "execution": {
     "iopub.execute_input": "2025-03-11T19:37:54.580338Z",
     "iopub.status.busy": "2025-03-11T19:37:54.579951Z",
     "iopub.status.idle": "2025-03-11T19:38:07.223196Z",
     "shell.execute_reply": "2025-03-11T19:38:07.222009Z"
    },
    "papermill": {
     "duration": 12.66434,
     "end_time": "2025-03-11T19:38:07.225252",
     "exception": false,
     "start_time": "2025-03-11T19:37:54.560912",
     "status": "completed"
    },
    "tags": []
   },
   "outputs": [],
   "source": [
    "dictionary_set = set(map(tuple, dictionary[['lemma', 'form']].values)) \n",
    "text_set = set(map(tuple, text_df[['lemma', 'form']].values)) \n",
    "\n",
    "missing_words = pd.DataFrame(list(dictionary_set.difference(text_set)), columns=['lemma', 'form'])"
   ]
  },
  {
   "cell_type": "code",
   "execution_count": 29,
   "id": "6c14f39c",
   "metadata": {
    "execution": {
     "iopub.execute_input": "2025-03-11T19:38:07.262779Z",
     "iopub.status.busy": "2025-03-11T19:38:07.262376Z",
     "iopub.status.idle": "2025-03-11T19:38:10.201400Z",
     "shell.execute_reply": "2025-03-11T19:38:10.200127Z"
    },
    "papermill": {
     "duration": 2.959706,
     "end_time": "2025-03-11T19:38:10.203169",
     "exception": false,
     "start_time": "2025-03-11T19:38:07.243463",
     "status": "completed"
    },
    "tags": []
   },
   "outputs": [
    {
     "name": "stdout",
     "output_type": "stream",
     "text": [
      "Всего в текстах отсутствует словоформ: 3108502\n",
      "Всего в текстах отсутствует лемм: 378014\n",
      "В текстах отсутствует словоформ в процентах: 60.46148313274501\n",
      "В текстах отсутствует лемм в процентах: 99.32915886033207\n"
     ]
    }
   ],
   "source": [
    "print('Всего в текстах отсутствует словоформ:', missing_words.shape[0])\n",
    "print('Всего в текстах отсутствует лемм:', len(missing_words['lemma'].unique()))\n",
    "print('В текстах отсутствует словоформ в процентах:', missing_words.shape[0]/dictionary.shape[0]*100)\n",
    "print('В текстах отсутствует лемм в процентах:', len(missing_words['lemma'].unique())/len(dictionary['lemma'].unique())*100)"
   ]
  },
  {
   "cell_type": "markdown",
   "id": "34f02299",
   "metadata": {
    "papermill": {
     "duration": 0.01767,
     "end_time": "2025-03-11T19:38:10.239089",
     "exception": false,
     "start_time": "2025-03-11T19:38:10.221419",
     "status": "completed"
    },
    "tags": []
   },
   "source": [
    "Статистики, посчитанные только по полному совпадению словоформ, определенных морфоанализатором и словарём:"
   ]
  },
  {
   "cell_type": "code",
   "execution_count": 30,
   "id": "cc97ee34",
   "metadata": {
    "execution": {
     "iopub.execute_input": "2025-03-11T19:38:10.276310Z",
     "iopub.status.busy": "2025-03-11T19:38:10.275963Z",
     "iopub.status.idle": "2025-03-11T19:38:21.379015Z",
     "shell.execute_reply": "2025-03-11T19:38:21.378047Z"
    },
    "papermill": {
     "duration": 11.123845,
     "end_time": "2025-03-11T19:38:21.380896",
     "exception": false,
     "start_time": "2025-03-11T19:38:10.257051",
     "status": "completed"
    },
    "tags": []
   },
   "outputs": [],
   "source": [
    "dictionary_set = set(map(tuple, dictionary[['form']].values)) \n",
    "text_set = set(map(tuple, text_df[['form']].values)) \n",
    "\n",
    "missing_words = pd.DataFrame(list(dictionary_set.difference(text_set)), columns=['form'])"
   ]
  },
  {
   "cell_type": "code",
   "execution_count": 31,
   "id": "b6f24a92",
   "metadata": {
    "execution": {
     "iopub.execute_input": "2025-03-11T19:38:21.418361Z",
     "iopub.status.busy": "2025-03-11T19:38:21.417951Z",
     "iopub.status.idle": "2025-03-11T19:38:21.424232Z",
     "shell.execute_reply": "2025-03-11T19:38:21.423071Z"
    },
    "papermill": {
     "duration": 0.026904,
     "end_time": "2025-03-11T19:38:21.425976",
     "exception": false,
     "start_time": "2025-03-11T19:38:21.399072",
     "status": "completed"
    },
    "tags": []
   },
   "outputs": [
    {
     "name": "stdout",
     "output_type": "stream",
     "text": [
      "Всего в текстах отсутствует словоформ: 3015212\n",
      "В текстах отсутствует словоформ в процентах: 58.64695904318232\n"
     ]
    }
   ],
   "source": [
    "print('Всего в текстах отсутствует словоформ:', missing_words.shape[0])\n",
    "print('В текстах отсутствует словоформ в процентах:', missing_words.shape[0]/dictionary.shape[0]*100)"
   ]
  },
  {
   "cell_type": "markdown",
   "id": "6dabfa32",
   "metadata": {
    "papermill": {
     "duration": 0.01807,
     "end_time": "2025-03-11T19:38:21.462426",
     "exception": false,
     "start_time": "2025-03-11T19:38:21.444356",
     "status": "completed"
    },
    "tags": []
   },
   "source": [
    "**Количество и процент встретившихся в выбранном тексте несловарных слов:**"
   ]
  },
  {
   "cell_type": "markdown",
   "id": "a086e9e5",
   "metadata": {
    "papermill": {
     "duration": 0.017734,
     "end_time": "2025-03-11T19:38:21.498247",
     "exception": false,
     "start_time": "2025-03-11T19:38:21.480513",
     "status": "completed"
    },
    "tags": []
   },
   "source": [
    "Статистики, посчитанные по полному совпадению словоформ, лемм и частей речи, определенных морфоанализатором и словарём:"
   ]
  },
  {
   "cell_type": "code",
   "execution_count": 32,
   "id": "82d70055",
   "metadata": {
    "execution": {
     "iopub.execute_input": "2025-03-11T19:38:21.535275Z",
     "iopub.status.busy": "2025-03-11T19:38:21.534885Z",
     "iopub.status.idle": "2025-03-11T19:38:31.651025Z",
     "shell.execute_reply": "2025-03-11T19:38:31.649884Z"
    },
    "papermill": {
     "duration": 10.136919,
     "end_time": "2025-03-11T19:38:31.653046",
     "exception": false,
     "start_time": "2025-03-11T19:38:21.516127",
     "status": "completed"
    },
    "tags": []
   },
   "outputs": [],
   "source": [
    "dictionary_set = set(map(tuple, dictionary[['lemma', 'form', 'pos']].values)) \n",
    "text_set = set(map(tuple, text_df[['lemma', 'form', 'pos']].values)) \n",
    "\n",
    "missing_words = pd.DataFrame(list(text_set.difference(dictionary_set)), columns=['lemma', 'form', 'pos'])"
   ]
  },
  {
   "cell_type": "code",
   "execution_count": 33,
   "id": "3b0c3144",
   "metadata": {
    "execution": {
     "iopub.execute_input": "2025-03-11T19:38:31.691170Z",
     "iopub.status.busy": "2025-03-11T19:38:31.690824Z",
     "iopub.status.idle": "2025-03-11T19:38:31.736829Z",
     "shell.execute_reply": "2025-03-11T19:38:31.735686Z"
    },
    "papermill": {
     "duration": 0.066954,
     "end_time": "2025-03-11T19:38:31.738465",
     "exception": false,
     "start_time": "2025-03-11T19:38:31.671511",
     "status": "completed"
    },
    "tags": []
   },
   "outputs": [
    {
     "name": "stdout",
     "output_type": "stream",
     "text": [
      "Всего в словаре отсутствует словоформ: 21317\n",
      "Всего в словаре отсутствует лемм: 8062\n",
      "В словаре отсутствует словоформ в процентах: 8.154311070308315\n",
      "В словаре отсутствует лемм в процентах: 42.696748225823534\n"
     ]
    }
   ],
   "source": [
    "print('Всего в словаре отсутствует словоформ:', missing_words.shape[0])\n",
    "print('Всего в словаре отсутствует лемм:', len(missing_words['lemma'].unique()))\n",
    "print('В словаре отсутствует словоформ в процентах:', missing_words.shape[0]/text_df.shape[0]*100)\n",
    "print('В словаре отсутствует лемм в процентах:', len(missing_words['lemma'].unique())/len(text_df['lemma'].unique())*100)"
   ]
  },
  {
   "cell_type": "markdown",
   "id": "e05f69e3",
   "metadata": {
    "papermill": {
     "duration": 0.017644,
     "end_time": "2025-03-11T19:38:31.774702",
     "exception": false,
     "start_time": "2025-03-11T19:38:31.757058",
     "status": "completed"
    },
    "tags": []
   },
   "source": [
    "Частотность частей речи отсутствующих слов в порядке убывания (абсолютное значение):"
   ]
  },
  {
   "cell_type": "code",
   "execution_count": 34,
   "id": "2233d467",
   "metadata": {
    "execution": {
     "iopub.execute_input": "2025-03-11T19:38:31.813276Z",
     "iopub.status.busy": "2025-03-11T19:38:31.812923Z",
     "iopub.status.idle": "2025-03-11T19:38:31.824754Z",
     "shell.execute_reply": "2025-03-11T19:38:31.823638Z"
    },
    "papermill": {
     "duration": 0.033461,
     "end_time": "2025-03-11T19:38:31.826436",
     "exception": false,
     "start_time": "2025-03-11T19:38:31.792975",
     "status": "completed"
    },
    "tags": []
   },
   "outputs": [
    {
     "data": {
      "text/plain": [
       "pos\n",
       "глагол             16566\n",
       "существительное     2125\n",
       "прилагательное      1735\n",
       "местоимение          424\n",
       "наречие              312\n",
       "числительное         127\n",
       "предлог               11\n",
       "междометие             9\n",
       "частица                6\n",
       "союз                   2\n",
       "Name: count, dtype: int64"
      ]
     },
     "execution_count": 34,
     "metadata": {},
     "output_type": "execute_result"
    }
   ],
   "source": [
    "missing_words['pos'].value_counts()"
   ]
  },
  {
   "cell_type": "code",
   "execution_count": 35,
   "id": "2fc5f854",
   "metadata": {
    "execution": {
     "iopub.execute_input": "2025-03-11T19:38:31.865007Z",
     "iopub.status.busy": "2025-03-11T19:38:31.864636Z",
     "iopub.status.idle": "2025-03-11T19:38:32.133730Z",
     "shell.execute_reply": "2025-03-11T19:38:32.132698Z"
    },
    "papermill": {
     "duration": 0.290288,
     "end_time": "2025-03-11T19:38:32.135641",
     "exception": false,
     "start_time": "2025-03-11T19:38:31.845353",
     "status": "completed"
    },
    "tags": []
   },
   "outputs": [
    {
     "data": {
      "image/png": "[encoded data removed]",
      "text/plain": [
       "<Figure size 640x480 with 1 Axes>"
      ]
     },
     "metadata": {},
     "output_type": "display_data"
    }
   ],
   "source": [
    "ax = missing_words['pos'].value_counts().plot.bar()\n",
    "for container in ax.containers:\n",
    "    ax.bar_label(container)"
   ]
  },
  {
   "cell_type": "code",
   "execution_count": 36,
   "id": "40bc7db8",
   "metadata": {
    "execution": {
     "iopub.execute_input": "2025-03-11T19:38:32.174961Z",
     "iopub.status.busy": "2025-03-11T19:38:32.174556Z",
     "iopub.status.idle": "2025-03-11T19:38:32.206620Z",
     "shell.execute_reply": "2025-03-11T19:38:32.205519Z"
    },
    "papermill": {
     "duration": 0.053511,
     "end_time": "2025-03-11T19:38:32.208381",
     "exception": false,
     "start_time": "2025-03-11T19:38:32.154870",
     "status": "completed"
    },
    "tags": []
   },
   "outputs": [],
   "source": [
    "pos_counts = pd.concat([missing_words['pos'].value_counts(), text_df['pos'].value_counts()], axis = 1, ignore_index=True)"
   ]
  },
  {
   "cell_type": "markdown",
   "id": "4a664db7",
   "metadata": {
    "papermill": {
     "duration": 0.019032,
     "end_time": "2025-03-11T19:38:32.246741",
     "exception": false,
     "start_time": "2025-03-11T19:38:32.227709",
     "status": "completed"
    },
    "tags": []
   },
   "source": [
    "Частотность частей речи отсутствующих слов в порядке убывания (относительное значение):"
   ]
  },
  {
   "cell_type": "code",
   "execution_count": 37,
   "id": "5feb234c",
   "metadata": {
    "execution": {
     "iopub.execute_input": "2025-03-11T19:38:32.285661Z",
     "iopub.status.busy": "2025-03-11T19:38:32.285311Z",
     "iopub.status.idle": "2025-03-11T19:38:32.293129Z",
     "shell.execute_reply": "2025-03-11T19:38:32.292146Z"
    },
    "papermill": {
     "duration": 0.029018,
     "end_time": "2025-03-11T19:38:32.294512",
     "exception": false,
     "start_time": "2025-03-11T19:38:32.265494",
     "status": "completed"
    },
    "tags": []
   },
   "outputs": [
    {
     "data": {
      "text/plain": [
       "pos\n",
       "глагол             35.172721\n",
       "прилагательное      8.396245\n",
       "числительное        4.016445\n",
       "междометие          2.980132\n",
       "существительное     2.760170\n",
       "наречие             2.467183\n",
       "местоимение         1.078030\n",
       "частица             0.060030\n",
       "предлог             0.040162\n",
       "союз                0.008388\n",
       "dtype: float64"
      ]
     },
     "execution_count": 37,
     "metadata": {},
     "output_type": "execute_result"
    }
   ],
   "source": [
    "(pos_counts[0]/pos_counts[1]*100).sort_values(ascending=False)"
   ]
  },
  {
   "cell_type": "code",
   "execution_count": 38,
   "id": "fc51e5aa",
   "metadata": {
    "execution": {
     "iopub.execute_input": "2025-03-11T19:38:32.334503Z",
     "iopub.status.busy": "2025-03-11T19:38:32.334092Z",
     "iopub.status.idle": "2025-03-11T19:38:32.600798Z",
     "shell.execute_reply": "2025-03-11T19:38:32.599770Z"
    },
    "papermill": {
     "duration": 0.288499,
     "end_time": "2025-03-11T19:38:32.602596",
     "exception": false,
     "start_time": "2025-03-11T19:38:32.314097",
     "status": "completed"
    },
    "tags": []
   },
   "outputs": [
    {
     "data": {
      "image/png": "[encoded data removed]",
      "text/plain": [
       "<Figure size 640x480 with 1 Axes>"
      ]
     },
     "metadata": {},
     "output_type": "display_data"
    }
   ],
   "source": [
    "ax = (pos_counts[0]/pos_counts[1]*100).sort_values(ascending=False).plot.bar()\n",
    "for container in ax.containers:\n",
    "    ax.bar_label(container)"
   ]
  },
  {
   "cell_type": "markdown",
   "id": "65d1df45",
   "metadata": {
    "papermill": {
     "duration": 0.020099,
     "end_time": "2025-03-11T19:38:32.642957",
     "exception": false,
     "start_time": "2025-03-11T19:38:32.622858",
     "status": "completed"
    },
    "tags": []
   },
   "source": [
    "Список незнакомых слов с их частотами:"
   ]
  },
  {
   "cell_type": "code",
   "execution_count": 39,
   "id": "7c2df41e",
   "metadata": {
    "execution": {
     "iopub.execute_input": "2025-03-11T19:38:32.691837Z",
     "iopub.status.busy": "2025-03-11T19:38:32.691398Z",
     "iopub.status.idle": "2025-03-11T19:38:32.716155Z",
     "shell.execute_reply": "2025-03-11T19:38:32.714884Z"
    },
    "papermill": {
     "duration": 0.055236,
     "end_time": "2025-03-11T19:38:32.718285",
     "exception": false,
     "start_time": "2025-03-11T19:38:32.663049",
     "status": "completed"
    },
    "tags": []
   },
   "outputs": [
    {
     "data": {
      "text/plain": [
       "form\n",
       "кампальдино    3\n",
       "все            3\n",
       "всего          3\n",
       "меньше         3\n",
       "тем            2\n",
       "              ..\n",
       "образуются     1\n",
       "позднее        1\n",
       "стало          1\n",
       "каменею        1\n",
       "прозвали       1\n",
       "Name: count, Length: 21147, dtype: int64"
      ]
     },
     "execution_count": 39,
     "metadata": {},
     "output_type": "execute_result"
    }
   ],
   "source": [
    "missing_words['form'].value_counts()"
   ]
  },
  {
   "cell_type": "markdown",
   "id": "fe2ab5e5",
   "metadata": {
    "papermill": {
     "duration": 0.027783,
     "end_time": "2025-03-11T19:38:32.770644",
     "exception": false,
     "start_time": "2025-03-11T19:38:32.742861",
     "status": "completed"
    },
    "tags": []
   },
   "source": [
    "Статистики, посчитанные только по полному совпадению словоформ и лемм, определенных морфоанализатором и словарём:"
   ]
  },
  {
   "cell_type": "code",
   "execution_count": 40,
   "id": "ae858919",
   "metadata": {
    "execution": {
     "iopub.execute_input": "2025-03-11T19:38:32.812720Z",
     "iopub.status.busy": "2025-03-11T19:38:32.812262Z",
     "iopub.status.idle": "2025-03-11T19:38:41.631351Z",
     "shell.execute_reply": "2025-03-11T19:38:41.630454Z"
    },
    "papermill": {
     "duration": 8.842443,
     "end_time": "2025-03-11T19:38:41.633354",
     "exception": false,
     "start_time": "2025-03-11T19:38:32.790911",
     "status": "completed"
    },
    "tags": []
   },
   "outputs": [],
   "source": [
    "dictionary_set = set(map(tuple, dictionary[['lemma', 'form']].values)) \n",
    "text_set = set(map(tuple, text_df[['lemma', 'form']].values)) \n",
    "\n",
    "missing_words = pd.DataFrame(list(text_set.difference(dictionary_set)), columns=['lemma', 'form'])"
   ]
  },
  {
   "cell_type": "code",
   "execution_count": 41,
   "id": "3b644761",
   "metadata": {
    "execution": {
     "iopub.execute_input": "2025-03-11T19:38:41.674940Z",
     "iopub.status.busy": "2025-03-11T19:38:41.674552Z",
     "iopub.status.idle": "2025-03-11T19:38:41.715598Z",
     "shell.execute_reply": "2025-03-11T19:38:41.714160Z"
    },
    "papermill": {
     "duration": 0.063534,
     "end_time": "2025-03-11T19:38:41.717341",
     "exception": false,
     "start_time": "2025-03-11T19:38:41.653807",
     "status": "completed"
    },
    "tags": []
   },
   "outputs": [
    {
     "name": "stdout",
     "output_type": "stream",
     "text": [
      "Всего в словаре отсутствует словоформ: 20642\n",
      "Всего в словаре отсутствует лемм: 7856\n",
      "В словаре отсутствует словоформ в процентах: 7.8961058832530036\n",
      "В словаре отсутствует лемм в процентах: 41.6057621014723\n"
     ]
    }
   ],
   "source": [
    "print('Всего в словаре отсутствует словоформ:', missing_words.shape[0])\n",
    "print('Всего в словаре отсутствует лемм:', len(missing_words['lemma'].unique()))\n",
    "print('В словаре отсутствует словоформ в процентах:', missing_words.shape[0]/text_df.shape[0]*100)\n",
    "print('В словаре отсутствует лемм в процентах:', len(missing_words['lemma'].unique())/len(text_df['lemma'].unique())*100)"
   ]
  },
  {
   "cell_type": "markdown",
   "id": "2fc8e449",
   "metadata": {
    "papermill": {
     "duration": 0.019864,
     "end_time": "2025-03-11T19:38:41.757365",
     "exception": false,
     "start_time": "2025-03-11T19:38:41.737501",
     "status": "completed"
    },
    "tags": []
   },
   "source": [
    "Список незнакомых слов с их частотами:"
   ]
  },
  {
   "cell_type": "code",
   "execution_count": 42,
   "id": "bbf16da3",
   "metadata": {
    "execution": {
     "iopub.execute_input": "2025-03-11T19:38:41.799213Z",
     "iopub.status.busy": "2025-03-11T19:38:41.798812Z",
     "iopub.status.idle": "2025-03-11T19:38:41.821239Z",
     "shell.execute_reply": "2025-03-11T19:38:41.820108Z"
    },
    "papermill": {
     "duration": 0.045574,
     "end_time": "2025-03-11T19:38:41.823047",
     "exception": false,
     "start_time": "2025-03-11T19:38:41.777473",
     "status": "completed"
    },
    "tags": []
   },
   "outputs": [
    {
     "data": {
      "text/plain": [
       "form\n",
       "гульельм       2\n",
       "сисмонди       2\n",
       "зрим           2\n",
       "похуже         2\n",
       "ниже           2\n",
       "              ..\n",
       "забыта         1\n",
       "пойдем         1\n",
       "доставила      1\n",
       "гноящиеся      1\n",
       "притворяйся    1\n",
       "Name: count, Length: 20539, dtype: int64"
      ]
     },
     "execution_count": 42,
     "metadata": {},
     "output_type": "execute_result"
    }
   ],
   "source": [
    "missing_words['form'].value_counts()"
   ]
  },
  {
   "cell_type": "markdown",
   "id": "9ff70c58",
   "metadata": {
    "papermill": {
     "duration": 0.020701,
     "end_time": "2025-03-11T19:38:41.864596",
     "exception": false,
     "start_time": "2025-03-11T19:38:41.843895",
     "status": "completed"
    },
    "tags": []
   },
   "source": [
    "Статистики, посчитанные только по полному совпадению словоформ, определенных морфоанализатором и словарём:"
   ]
  },
  {
   "cell_type": "code",
   "execution_count": 43,
   "id": "e1ef4d8f",
   "metadata": {
    "execution": {
     "iopub.execute_input": "2025-03-11T19:38:41.906157Z",
     "iopub.status.busy": "2025-03-11T19:38:41.905774Z",
     "iopub.status.idle": "2025-03-11T19:38:50.088111Z",
     "shell.execute_reply": "2025-03-11T19:38:50.086945Z"
    },
    "papermill": {
     "duration": 8.205244,
     "end_time": "2025-03-11T19:38:50.090088",
     "exception": false,
     "start_time": "2025-03-11T19:38:41.884844",
     "status": "completed"
    },
    "tags": []
   },
   "outputs": [],
   "source": [
    "dictionary_set = set(map(tuple, dictionary[['form']].values)) \n",
    "text_set = set(map(tuple, text_df[['form']].values)) \n",
    "\n",
    "missing_words = pd.DataFrame(list(text_set.difference(dictionary_set)), columns=['form'])"
   ]
  },
  {
   "cell_type": "code",
   "execution_count": 44,
   "id": "f03875e4",
   "metadata": {
    "execution": {
     "iopub.execute_input": "2025-03-11T19:38:50.132284Z",
     "iopub.status.busy": "2025-03-11T19:38:50.131879Z",
     "iopub.status.idle": "2025-03-11T19:38:50.138242Z",
     "shell.execute_reply": "2025-03-11T19:38:50.137204Z"
    },
    "papermill": {
     "duration": 0.029019,
     "end_time": "2025-03-11T19:38:50.139873",
     "exception": false,
     "start_time": "2025-03-11T19:38:50.110854",
     "status": "completed"
    },
    "tags": []
   },
   "outputs": [
    {
     "name": "stdout",
     "output_type": "stream",
     "text": [
      "Всего в словаре отсутствует словоформ: 2613\n",
      "В словаре отсутствует словоформ в процентах: 0.999540968556346\n"
     ]
    }
   ],
   "source": [
    "print('Всего в словаре отсутствует словоформ:', missing_words.shape[0])\n",
    "print('В словаре отсутствует словоформ в процентах:', missing_words.shape[0]/text_df.shape[0]*100)"
   ]
  },
  {
   "cell_type": "markdown",
   "id": "7a5e200b",
   "metadata": {
    "papermill": {
     "duration": 0.019865,
     "end_time": "2025-03-11T19:38:50.180105",
     "exception": false,
     "start_time": "2025-03-11T19:38:50.160240",
     "status": "completed"
    },
    "tags": []
   },
   "source": [
    "Список незнакомых слов с их частотами:"
   ]
  },
  {
   "cell_type": "code",
   "execution_count": 45,
   "id": "b8a5125d",
   "metadata": {
    "execution": {
     "iopub.execute_input": "2025-03-11T19:38:50.221838Z",
     "iopub.status.busy": "2025-03-11T19:38:50.221412Z",
     "iopub.status.idle": "2025-03-11T19:38:50.231362Z",
     "shell.execute_reply": "2025-03-11T19:38:50.230400Z"
    },
    "papermill": {
     "duration": 0.032885,
     "end_time": "2025-03-11T19:38:50.233052",
     "exception": false,
     "start_time": "2025-03-11T19:38:50.200167",
     "status": "completed"
    },
    "tags": []
   },
   "outputs": [
    {
     "data": {
      "text/plain": [
       "form\n",
       "порсену        1\n",
       "фарсале        1\n",
       "лукинишна      1\n",
       "моронто        1\n",
       "амата          1\n",
       "              ..\n",
       "всецела        1\n",
       "наказьюаете    1\n",
       "вакховых       1\n",
       "неуличим       1\n",
       "капрайя        1\n",
       "Name: count, Length: 2613, dtype: int64"
      ]
     },
     "execution_count": 45,
     "metadata": {},
     "output_type": "execute_result"
    }
   ],
   "source": [
    "missing_words['form'].value_counts()"
   ]
  },
  {
   "cell_type": "markdown",
   "id": "90284826",
   "metadata": {
    "papermill": {
     "duration": 0.020671,
     "end_time": "2025-03-11T19:38:50.274626",
     "exception": false,
     "start_time": "2025-03-11T19:38:50.253955",
     "status": "completed"
    },
    "tags": []
   },
   "source": [
    "**Ограниченность словаря морфопроцессора**"
   ]
  },
  {
   "cell_type": "code",
   "execution_count": 46,
   "id": "d622df5c",
   "metadata": {
    "execution": {
     "iopub.execute_input": "2025-03-11T19:38:50.316501Z",
     "iopub.status.busy": "2025-03-11T19:38:50.316081Z",
     "iopub.status.idle": "2025-03-11T19:38:50.587556Z",
     "shell.execute_reply": "2025-03-11T19:38:50.586366Z"
    },
    "papermill": {
     "duration": 0.29419,
     "end_time": "2025-03-11T19:38:50.589048",
     "exception": false,
     "start_time": "2025-03-11T19:38:50.294858",
     "status": "completed"
    },
    "tags": []
   },
   "outputs": [
    {
     "name": "stdout",
     "output_type": "stream",
     "text": [
      "Процент словоформ, незнакомых словарю морфопроцессора: 1.5155688164639303\n",
      "Процент уникальных словоформ, незнакомых словарю морфопроцессора: 4.730757212790337\n",
      "Процент уникальных лемм, незнакомых словарю морфопроцессора: 10.242174280879867\n"
     ]
    }
   ],
   "source": [
    "print('Процент словоформ, незнакомых словарю морфопроцессора:', 100*(1 - pd.to_numeric(text_df['is_in_mystem_dictionary']).mean()))\n",
    "print('Процент уникальных словоформ, незнакомых словарю морфопроцессора:', 100*(1 - pd.to_numeric(text_df[['form', 'is_in_mystem_dictionary']].drop_duplicates()['is_in_mystem_dictionary']).mean())) \n",
    "print('Процент уникальных лемм, незнакомых словарю морфопроцессора:', 100*(1 - pd.to_numeric(text_df[['lemma', 'is_in_mystem_dictionary']].drop_duplicates()['is_in_mystem_dictionary']).mean()))"
   ]
  }
 ],
 "metadata": {
  "kaggle": {
   "accelerator": "none",
   "dataSources": [
    {
     "datasetId": 6735345,
     "sourceId": 10845111,
     "sourceType": "datasetVersion"
    },
    {
     "datasetId": 6763031,
     "sourceId": 10883688,
     "sourceType": "datasetVersion"
    }
   ],
   "dockerImageVersionId": 30918,
   "isGpuEnabled": false,
   "isInternetEnabled": true,
   "language": "python",
   "sourceType": "notebook"
  },
  "kernelspec": {
   "display_name": "Python 3",
   "language": "python",
   "name": "python3"
  },
  "language_info": {
   "codemirror_mode": {
    "name": "ipython",
    "version": 3
   },
   "file_extension": ".py",
   "mimetype": "text/x-python",
   "name": "python",
   "nbconvert_exporter": "python",
   "pygments_lexer": "ipython3",
   "version": "3.10.12"
  },
  "papermill": {
   "default_parameters": {},
   "duration": 178.267007,
   "end_time": "2025-03-11T19:38:53.531466",
   "environment_variables": {},
   "exception": null,
   "input_path": "__notebook__.ipynb",
   "output_path": "__notebook__.ipynb",
   "parameters": {},
   "start_time": "2025-03-11T19:35:55.264459",
   "version": "2.6.0"
  }
 },
 "nbformat": 4,
 "nbformat_minor": 5
}
