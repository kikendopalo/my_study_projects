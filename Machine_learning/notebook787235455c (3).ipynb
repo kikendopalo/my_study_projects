{
 "cells": [
  {
   "cell_type": "markdown",
   "id": "d23771aa",
   "metadata": {
    "_cell_guid": "f454356f-b1a6-43a2-bab3-4b055afe317a",
    "_uuid": "67808f25-e4d8-4e50-88f8-0b1be31b3da5",
    "papermill": {
     "duration": 0.009627,
     "end_time": "2024-11-29T20:58:59.896898",
     "exception": false,
     "start_time": "2024-11-29T20:58:59.887271",
     "status": "completed"
    },
    "tags": []
   },
   "source": [
    "# Brief overview of this study\n",
    "The data comes from the Austin Animal Center, a shelter, and spans from October 1, 2013, to March 2016.\n",
    "\n",
    "### Objective\n",
    "\n",
    "The task is to predict the fate of each animal based on available information. It's essentially a classification task. The classes are: Adoption, Died, Euthanasia, Return to owner, Transfer. \n",
    "\n",
    "We consider all classes equally important regardless of their representation in the dataset. Therefore, the prediction quality is assessed using the macro-averaged F1 score.\n",
    "\n",
    "---\n",
    "\n",
    "**Assignment**\n",
    "\n",
    "Using the exact scheme proposed in this template is optional, but within this notebook, you should develop:\n",
    "\n",
    "- Clear and clean,\n",
    "- Well-commented,\n",
    "- Reproducible (fix all possible random seeds),\n",
    "- Motivated\n",
    "\n",
    "**code** that **generates your best solution**. See competition rules for futher information.\n",
    "\n",
    "\n",
    "### Methods\n",
    "\n",
    "`TODO: Describe your feature preprocessing techniques`\n",
    "\n",
    "`TODO: List the models and parameters you have tried`\n",
    "\n",
    "\n",
    "### Results\n",
    "\n",
    "`TODO: Share observations, success stories, and futile efforts; what interesting things can you say about the dataset? what conclusions can you draw?`\n",
    "\n",
    "---\n"
   ]
  },
  {
   "cell_type": "code",
   "execution_count": 1,
   "id": "54fbfe64",
   "metadata": {
    "_cell_guid": "5dfdd948-e8b5-47d6-8e92-f3f1b9dd6c93",
    "_uuid": "0daef8f6-349e-4cb4-a433-d49a4d17c876",
    "collapsed": false,
    "execution": {
     "iopub.execute_input": "2024-11-29T20:58:59.917572Z",
     "iopub.status.busy": "2024-11-29T20:58:59.917184Z",
     "iopub.status.idle": "2024-11-29T20:59:02.101196Z",
     "shell.execute_reply": "2024-11-29T20:59:02.100129Z"
    },
    "jupyter": {
     "outputs_hidden": false
    },
    "papermill": {
     "duration": 2.197715,
     "end_time": "2024-11-29T20:59:02.103684",
     "exception": false,
     "start_time": "2024-11-29T20:58:59.905969",
     "status": "completed"
    },
    "tags": []
   },
   "outputs": [],
   "source": [
    "# Import necessary libraries\n",
    "import pandas as pd\n",
    "import numpy as np\n",
    "import random\n",
    "import os\n",
    "\n",
    "from sklearn.dummy import DummyClassifier\n",
    "from sklearn.metrics import classification_report\n",
    "\n",
    "# Set fixed random seeds for reproducibility\n",
    "SEED = 42\n",
    "np.random.seed(SEED)\n",
    "random.seed(SEED)"
   ]
  },
  {
   "cell_type": "markdown",
   "id": "88cfac79",
   "metadata": {
    "_cell_guid": "7e144ec1-5107-48bb-81dd-d202845ee92f",
    "_uuid": "ccaa21de-40f1-4d0f-80af-a8db0b312128",
    "papermill": {
     "duration": 0.0087,
     "end_time": "2024-11-29T20:59:02.121689",
     "exception": false,
     "start_time": "2024-11-29T20:59:02.112989",
     "status": "completed"
    },
    "tags": []
   },
   "source": [
    "## Configurations and Constants\n",
    "(avoid magic numbers in your code)"
   ]
  },
  {
   "cell_type": "code",
   "execution_count": 2,
   "id": "1f68a600",
   "metadata": {
    "_cell_guid": "33f734c7-5729-4e91-a22a-e29d5e0097f1",
    "_uuid": "d282383b-5c7c-4dbb-aed2-81ea120a9c40",
    "collapsed": false,
    "execution": {
     "iopub.execute_input": "2024-11-29T20:59:02.141658Z",
     "iopub.status.busy": "2024-11-29T20:59:02.141081Z",
     "iopub.status.idle": "2024-11-29T20:59:02.147274Z",
     "shell.execute_reply": "2024-11-29T20:59:02.145986Z"
    },
    "jupyter": {
     "outputs_hidden": false
    },
    "papermill": {
     "duration": 0.018816,
     "end_time": "2024-11-29T20:59:02.149459",
     "exception": false,
     "start_time": "2024-11-29T20:59:02.130643",
     "status": "completed"
    },
    "tags": []
   },
   "outputs": [],
   "source": [
    "OUTCOME2LABEL = {\n",
    "    \"Adoption\": 0,\n",
    "    \"Transfer\": 1,\n",
    "    \"Return_to_owner\": 2,\n",
    "    \"Euthanasia\": 3,\n",
    "    \"Died\": 4,\n",
    "}\n",
    "LABEL2OUTCOME = {v: k for k, v in OUTCOME2LABEL.items()}"
   ]
  },
  {
   "cell_type": "markdown",
   "id": "05722f9d",
   "metadata": {
    "_cell_guid": "268db640-8b8e-49d5-b37b-944b7cfbfd4a",
    "_uuid": "36d452b9-ec4e-45cf-adb7-193dc17e83c9",
    "papermill": {
     "duration": 0.008789,
     "end_time": "2024-11-29T20:59:02.167417",
     "exception": false,
     "start_time": "2024-11-29T20:59:02.158628",
     "status": "completed"
    },
    "tags": []
   },
   "source": [
    "## Libraries\n",
    "(all imports should ideally be placed here)"
   ]
  },
  {
   "cell_type": "code",
   "execution_count": 3,
   "id": "e968840f",
   "metadata": {
    "_cell_guid": "f3be76cf-8a28-4dd4-9921-82ae4ce4b240",
    "_uuid": "c20059ad-e28c-4895-93f1-682e9d047e1b",
    "collapsed": false,
    "execution": {
     "iopub.execute_input": "2024-11-29T20:59:02.187500Z",
     "iopub.status.busy": "2024-11-29T20:59:02.186580Z",
     "iopub.status.idle": "2024-11-29T20:59:02.542685Z",
     "shell.execute_reply": "2024-11-29T20:59:02.541585Z"
    },
    "jupyter": {
     "outputs_hidden": false
    },
    "papermill": {
     "duration": 0.36889,
     "end_time": "2024-11-29T20:59:02.545275",
     "exception": false,
     "start_time": "2024-11-29T20:59:02.176385",
     "status": "completed"
    },
    "tags": []
   },
   "outputs": [],
   "source": [
    "import sklearn\n",
    "import pandas as pd\n",
    "import numpy as np\n",
    "from sklearn.preprocessing import LabelEncoder\n",
    "from sklearn.preprocessing import StandardScaler\n",
    "from sklearn.ensemble import RandomForestClassifier\n",
    "from sklearn.model_selection import GridSearchCV\n",
    "from sklearn.model_selection import KFold\n",
    "from sklearn.metrics import f1_score, make_scorer"
   ]
  },
  {
   "cell_type": "markdown",
   "id": "e5672562",
   "metadata": {
    "_cell_guid": "86969d93-b3ef-41d2-8788-a619908fcfaf",
    "_uuid": "8bac774c-d4d5-458b-9326-f753c67ce6f6",
    "papermill": {
     "duration": 0.008819,
     "end_time": "2024-11-29T20:59:02.563280",
     "exception": false,
     "start_time": "2024-11-29T20:59:02.554461",
     "status": "completed"
    },
    "tags": []
   },
   "source": [
    "Let's download and examine the data.\n",
    "\n",
    "#### Questions to Consider:\n",
    "- What kind of data transformations might we need?\n",
    "- What are the potential pitfalls in the data preprocessing stage?"
   ]
  },
  {
   "cell_type": "code",
   "execution_count": 4,
   "id": "dbe6acf5",
   "metadata": {
    "_cell_guid": "1572ca69-c5e0-4186-b080-4a7c886b50cd",
    "_uuid": "534d6d86-757a-490f-89d3-47eea42ab116",
    "collapsed": false,
    "execution": {
     "iopub.execute_input": "2024-11-29T20:59:02.583064Z",
     "iopub.status.busy": "2024-11-29T20:59:02.582308Z",
     "iopub.status.idle": "2024-11-29T20:59:02.694720Z",
     "shell.execute_reply": "2024-11-29T20:59:02.693609Z"
    },
    "jupyter": {
     "outputs_hidden": false
    },
    "papermill": {
     "duration": 0.12466,
     "end_time": "2024-11-29T20:59:02.696761",
     "exception": false,
     "start_time": "2024-11-29T20:59:02.572101",
     "status": "completed"
    },
    "tags": []
   },
   "outputs": [
    {
     "data": {
      "text/html": [
       "<div>\n",
       "<style scoped>\n",
       "    .dataframe tbody tr th:only-of-type {\n",
       "        vertical-align: middle;\n",
       "    }\n",
       "\n",
       "    .dataframe tbody tr th {\n",
       "        vertical-align: top;\n",
       "    }\n",
       "\n",
       "    .dataframe thead th {\n",
       "        text-align: right;\n",
       "    }\n",
       "</style>\n",
       "<table border=\"1\" class=\"dataframe\">\n",
       "  <thead>\n",
       "    <tr style=\"text-align: right;\">\n",
       "      <th></th>\n",
       "      <th>Name</th>\n",
       "      <th>SexuponOutcome</th>\n",
       "      <th>AnimalType</th>\n",
       "      <th>AgeuponOutcome</th>\n",
       "      <th>Breed</th>\n",
       "      <th>Color</th>\n",
       "      <th>DateTime</th>\n",
       "      <th>Outcome</th>\n",
       "      <th>ID</th>\n",
       "    </tr>\n",
       "  </thead>\n",
       "  <tbody>\n",
       "    <tr>\n",
       "      <th>0</th>\n",
       "      <td>Socks</td>\n",
       "      <td>Neutered Male</td>\n",
       "      <td>Cat</td>\n",
       "      <td>2 months</td>\n",
       "      <td>Domestic Shorthair Mix</td>\n",
       "      <td>Black/White</td>\n",
       "      <td>2014-06-11 14:36:00</td>\n",
       "      <td>0</td>\n",
       "      <td>0</td>\n",
       "    </tr>\n",
       "    <tr>\n",
       "      <th>1</th>\n",
       "      <td>Vera</td>\n",
       "      <td>Intact Female</td>\n",
       "      <td>Cat</td>\n",
       "      <td>1 month</td>\n",
       "      <td>Domestic Shorthair Mix</td>\n",
       "      <td>Tortie/White</td>\n",
       "      <td>2014-07-18 08:10:00</td>\n",
       "      <td>3</td>\n",
       "      <td>1</td>\n",
       "    </tr>\n",
       "    <tr>\n",
       "      <th>2</th>\n",
       "      <td>Biscuit</td>\n",
       "      <td>Neutered Male</td>\n",
       "      <td>Dog</td>\n",
       "      <td>3 months</td>\n",
       "      <td>Chihuahua Shorthair Mix</td>\n",
       "      <td>Yellow</td>\n",
       "      <td>2016-01-02 17:28:00</td>\n",
       "      <td>2</td>\n",
       "      <td>2</td>\n",
       "    </tr>\n",
       "    <tr>\n",
       "      <th>3</th>\n",
       "      <td>Kitten</td>\n",
       "      <td>Spayed Female</td>\n",
       "      <td>Cat</td>\n",
       "      <td>2 years</td>\n",
       "      <td>Domestic Shorthair Mix</td>\n",
       "      <td>Calico</td>\n",
       "      <td>2014-02-19 17:27:00</td>\n",
       "      <td>0</td>\n",
       "      <td>3</td>\n",
       "    </tr>\n",
       "    <tr>\n",
       "      <th>4</th>\n",
       "      <td>NaN</td>\n",
       "      <td>Neutered Male</td>\n",
       "      <td>Cat</td>\n",
       "      <td>2 months</td>\n",
       "      <td>Domestic Shorthair Mix</td>\n",
       "      <td>Orange Tabby</td>\n",
       "      <td>2014-07-21 17:34:00</td>\n",
       "      <td>0</td>\n",
       "      <td>4</td>\n",
       "    </tr>\n",
       "  </tbody>\n",
       "</table>\n",
       "</div>"
      ],
      "text/plain": [
       "      Name SexuponOutcome AnimalType AgeuponOutcome                    Breed  \\\n",
       "0    Socks  Neutered Male        Cat       2 months   Domestic Shorthair Mix   \n",
       "1     Vera  Intact Female        Cat        1 month   Domestic Shorthair Mix   \n",
       "2  Biscuit  Neutered Male        Dog       3 months  Chihuahua Shorthair Mix   \n",
       "3   Kitten  Spayed Female        Cat        2 years   Domestic Shorthair Mix   \n",
       "4      NaN  Neutered Male        Cat       2 months   Domestic Shorthair Mix   \n",
       "\n",
       "          Color             DateTime  Outcome  ID  \n",
       "0   Black/White  2014-06-11 14:36:00        0   0  \n",
       "1  Tortie/White  2014-07-18 08:10:00        3   1  \n",
       "2        Yellow  2016-01-02 17:28:00        2   2  \n",
       "3        Calico  2014-02-19 17:27:00        0   3  \n",
       "4  Orange Tabby  2014-07-21 17:34:00        0   4  "
      ]
     },
     "execution_count": 4,
     "metadata": {},
     "output_type": "execute_result"
    }
   ],
   "source": [
    "# Load the data\n",
    "df_train = pd.read_csv(\"/kaggle/input/animal-shelter-log/train.csv\", encoding=\"utf-8\")\n",
    "df_test = pd.read_csv(\"/kaggle/input/animal-shelter-log/test.csv\", encoding=\"utf-8\")\n",
    "df_train.head(5)"
   ]
  },
  {
   "cell_type": "markdown",
   "id": "1eb7964d",
   "metadata": {
    "papermill": {
     "duration": 0.009022,
     "end_time": "2024-11-29T20:59:02.716640",
     "exception": false,
     "start_time": "2024-11-29T20:59:02.707618",
     "status": "completed"
    },
    "tags": []
   },
   "source": [
    "Имя в общем случае не несёт в себе информации для предсказания целевой переменной"
   ]
  },
  {
   "cell_type": "code",
   "execution_count": 5,
   "id": "1f375c5c",
   "metadata": {
    "execution": {
     "iopub.execute_input": "2024-11-29T20:59:02.737302Z",
     "iopub.status.busy": "2024-11-29T20:59:02.736395Z",
     "iopub.status.idle": "2024-11-29T20:59:02.747111Z",
     "shell.execute_reply": "2024-11-29T20:59:02.746082Z"
    },
    "papermill": {
     "duration": 0.023175,
     "end_time": "2024-11-29T20:59:02.749305",
     "exception": false,
     "start_time": "2024-11-29T20:59:02.726130",
     "status": "completed"
    },
    "tags": []
   },
   "outputs": [],
   "source": [
    "df_train.drop('Name', axis=1, inplace=True)"
   ]
  },
  {
   "cell_type": "code",
   "execution_count": 6,
   "id": "51036bd5",
   "metadata": {
    "execution": {
     "iopub.execute_input": "2024-11-29T20:59:02.769137Z",
     "iopub.status.busy": "2024-11-29T20:59:02.768763Z",
     "iopub.status.idle": "2024-11-29T20:59:02.776139Z",
     "shell.execute_reply": "2024-11-29T20:59:02.775120Z"
    },
    "papermill": {
     "duration": 0.019684,
     "end_time": "2024-11-29T20:59:02.778170",
     "exception": false,
     "start_time": "2024-11-29T20:59:02.758486",
     "status": "completed"
    },
    "tags": []
   },
   "outputs": [],
   "source": [
    "df_test.drop('Name', axis=1, inplace=True)"
   ]
  },
  {
   "cell_type": "code",
   "execution_count": 7,
   "id": "e227c585",
   "metadata": {
    "execution": {
     "iopub.execute_input": "2024-11-29T20:59:02.798458Z",
     "iopub.status.busy": "2024-11-29T20:59:02.797719Z",
     "iopub.status.idle": "2024-11-29T20:59:02.809207Z",
     "shell.execute_reply": "2024-11-29T20:59:02.808203Z"
    },
    "papermill": {
     "duration": 0.024018,
     "end_time": "2024-11-29T20:59:02.811450",
     "exception": false,
     "start_time": "2024-11-29T20:59:02.787432",
     "status": "completed"
    },
    "tags": []
   },
   "outputs": [
    {
     "data": {
      "text/html": [
       "<div>\n",
       "<style scoped>\n",
       "    .dataframe tbody tr th:only-of-type {\n",
       "        vertical-align: middle;\n",
       "    }\n",
       "\n",
       "    .dataframe tbody tr th {\n",
       "        vertical-align: top;\n",
       "    }\n",
       "\n",
       "    .dataframe thead th {\n",
       "        text-align: right;\n",
       "    }\n",
       "</style>\n",
       "<table border=\"1\" class=\"dataframe\">\n",
       "  <thead>\n",
       "    <tr style=\"text-align: right;\">\n",
       "      <th></th>\n",
       "      <th>SexuponOutcome</th>\n",
       "      <th>AnimalType</th>\n",
       "      <th>AgeuponOutcome</th>\n",
       "      <th>Breed</th>\n",
       "      <th>Color</th>\n",
       "      <th>DateTime</th>\n",
       "      <th>ID</th>\n",
       "    </tr>\n",
       "  </thead>\n",
       "  <tbody>\n",
       "    <tr>\n",
       "      <th>0</th>\n",
       "      <td>Intact Female</td>\n",
       "      <td>Cat</td>\n",
       "      <td>3 weeks</td>\n",
       "      <td>Domestic Shorthair Mix</td>\n",
       "      <td>Torbie</td>\n",
       "      <td>2015-08-21 15:11:00</td>\n",
       "      <td>0</td>\n",
       "    </tr>\n",
       "    <tr>\n",
       "      <th>1</th>\n",
       "      <td>Spayed Female</td>\n",
       "      <td>Cat</td>\n",
       "      <td>3 months</td>\n",
       "      <td>Domestic Shorthair Mix</td>\n",
       "      <td>Blue Tabby</td>\n",
       "      <td>2014-08-12 15:27:00</td>\n",
       "      <td>1</td>\n",
       "    </tr>\n",
       "    <tr>\n",
       "      <th>2</th>\n",
       "      <td>Neutered Male</td>\n",
       "      <td>Cat</td>\n",
       "      <td>2 months</td>\n",
       "      <td>Domestic Shorthair Mix</td>\n",
       "      <td>Black</td>\n",
       "      <td>2014-12-21 19:09:00</td>\n",
       "      <td>2</td>\n",
       "    </tr>\n",
       "    <tr>\n",
       "      <th>3</th>\n",
       "      <td>Neutered Male</td>\n",
       "      <td>Cat</td>\n",
       "      <td>4 months</td>\n",
       "      <td>Domestic Shorthair Mix</td>\n",
       "      <td>Black</td>\n",
       "      <td>2014-11-14 13:42:00</td>\n",
       "      <td>3</td>\n",
       "    </tr>\n",
       "    <tr>\n",
       "      <th>4</th>\n",
       "      <td>Spayed Female</td>\n",
       "      <td>Cat</td>\n",
       "      <td>2 months</td>\n",
       "      <td>Domestic Shorthair Mix</td>\n",
       "      <td>Calico</td>\n",
       "      <td>2014-06-03 15:17:00</td>\n",
       "      <td>4</td>\n",
       "    </tr>\n",
       "  </tbody>\n",
       "</table>\n",
       "</div>"
      ],
      "text/plain": [
       "  SexuponOutcome AnimalType AgeuponOutcome                   Breed  \\\n",
       "0  Intact Female        Cat        3 weeks  Domestic Shorthair Mix   \n",
       "1  Spayed Female        Cat       3 months  Domestic Shorthair Mix   \n",
       "2  Neutered Male        Cat       2 months  Domestic Shorthair Mix   \n",
       "3  Neutered Male        Cat       4 months  Domestic Shorthair Mix   \n",
       "4  Spayed Female        Cat       2 months  Domestic Shorthair Mix   \n",
       "\n",
       "        Color             DateTime  ID  \n",
       "0      Torbie  2015-08-21 15:11:00   0  \n",
       "1  Blue Tabby  2014-08-12 15:27:00   1  \n",
       "2       Black  2014-12-21 19:09:00   2  \n",
       "3       Black  2014-11-14 13:42:00   3  \n",
       "4      Calico  2014-06-03 15:17:00   4  "
      ]
     },
     "execution_count": 7,
     "metadata": {},
     "output_type": "execute_result"
    }
   ],
   "source": [
    "df_test.head(5)"
   ]
  },
  {
   "cell_type": "markdown",
   "id": "ba7d3a38",
   "metadata": {
    "papermill": {
     "duration": 0.00902,
     "end_time": "2024-11-29T20:59:02.830057",
     "exception": false,
     "start_time": "2024-11-29T20:59:02.821037",
     "status": "completed"
    },
    "tags": []
   },
   "source": [
    "### Exploratory Data Analysis"
   ]
  },
  {
   "cell_type": "code",
   "execution_count": 8,
   "id": "2c6ab5d5",
   "metadata": {
    "execution": {
     "iopub.execute_input": "2024-11-29T20:59:02.851204Z",
     "iopub.status.busy": "2024-11-29T20:59:02.850173Z",
     "iopub.status.idle": "2024-11-29T20:59:02.854786Z",
     "shell.execute_reply": "2024-11-29T20:59:02.853846Z"
    },
    "papermill": {
     "duration": 0.016931,
     "end_time": "2024-11-29T20:59:02.856695",
     "exception": false,
     "start_time": "2024-11-29T20:59:02.839764",
     "status": "completed"
    },
    "tags": []
   },
   "outputs": [],
   "source": [
    "# TODO: explore the data, plot graphs, seek valuable insights, ..."
   ]
  },
  {
   "cell_type": "markdown",
   "id": "3724f7d3",
   "metadata": {
    "_cell_guid": "9c9aced5-adca-4814-8d32-5cb5b5f8e8f3",
    "_uuid": "eecdb1ba-c329-4c10-887e-685d8839fece",
    "papermill": {
     "duration": 0.008978,
     "end_time": "2024-11-29T20:59:02.875231",
     "exception": false,
     "start_time": "2024-11-29T20:59:02.866253",
     "status": "completed"
    },
    "tags": []
   },
   "source": [
    "## Feature Preparation\n",
    "\n",
    "#### Dates\n",
    "\n",
    "Convert date columns into a numerical format. What format is most suitable and why?"
   ]
  },
  {
   "cell_type": "code",
   "execution_count": 9,
   "id": "6967ed72",
   "metadata": {
    "_cell_guid": "eaef4327-6eb2-412f-b593-8bf5482a6119",
    "_uuid": "4be24ac9-6347-41f5-aa98-eae7c35846a4",
    "collapsed": false,
    "execution": {
     "iopub.execute_input": "2024-11-29T20:59:02.895760Z",
     "iopub.status.busy": "2024-11-29T20:59:02.894949Z",
     "iopub.status.idle": "2024-11-29T20:59:02.907853Z",
     "shell.execute_reply": "2024-11-29T20:59:02.906833Z"
    },
    "jupyter": {
     "outputs_hidden": false
    },
    "papermill": {
     "duration": 0.025419,
     "end_time": "2024-11-29T20:59:02.909945",
     "exception": false,
     "start_time": "2024-11-29T20:59:02.884526",
     "status": "completed"
    },
    "tags": []
   },
   "outputs": [
    {
     "data": {
      "text/plain": [
       "array([1607558400])"
      ]
     },
     "execution_count": 9,
     "metadata": {},
     "output_type": "execute_result"
    }
   ],
   "source": [
    "def pandas_dates2number(date_series: pd.Series):\n",
    "    return pd.to_datetime(date_series).values.astype(np.int64) // 10**9\n",
    "\n",
    "\n",
    "pandas_dates2number(pd.Series([\"2020-12-10\"]))"
   ]
  },
  {
   "cell_type": "markdown",
   "id": "e0472744",
   "metadata": {
    "papermill": {
     "duration": 0.009061,
     "end_time": "2024-11-29T20:59:02.928522",
     "exception": false,
     "start_time": "2024-11-29T20:59:02.919461",
     "status": "completed"
    },
    "tags": []
   },
   "source": [
    "#### Other Features\n",
    "\n",
    "Based on your EDA, preprocess other features."
   ]
  },
  {
   "cell_type": "markdown",
   "id": "88c529be",
   "metadata": {
    "papermill": {
     "duration": 0.009098,
     "end_time": "2024-11-29T20:59:02.947051",
     "exception": false,
     "start_time": "2024-11-29T20:59:02.937953",
     "status": "completed"
    },
    "tags": []
   },
   "source": [
    "Чтобы не проводить все преобразования два раза, я решил объединить train и test в один датасет"
   ]
  },
  {
   "cell_type": "code",
   "execution_count": 10,
   "id": "5f6f35dc",
   "metadata": {
    "execution": {
     "iopub.execute_input": "2024-11-29T20:59:02.968736Z",
     "iopub.status.busy": "2024-11-29T20:59:02.967488Z",
     "iopub.status.idle": "2024-11-29T20:59:02.982185Z",
     "shell.execute_reply": "2024-11-29T20:59:02.981302Z"
    },
    "papermill": {
     "duration": 0.027775,
     "end_time": "2024-11-29T20:59:02.984444",
     "exception": false,
     "start_time": "2024-11-29T20:59:02.956669",
     "status": "completed"
    },
    "tags": []
   },
   "outputs": [],
   "source": [
    "df = pd.concat([df_train.drop('Outcome', axis=1), df_test], keys=['train', 'test'])"
   ]
  },
  {
   "cell_type": "code",
   "execution_count": 11,
   "id": "4ccef238",
   "metadata": {
    "execution": {
     "iopub.execute_input": "2024-11-29T20:59:03.005709Z",
     "iopub.status.busy": "2024-11-29T20:59:03.004690Z",
     "iopub.status.idle": "2024-11-29T20:59:03.020794Z",
     "shell.execute_reply": "2024-11-29T20:59:03.019399Z"
    },
    "papermill": {
     "duration": 0.028966,
     "end_time": "2024-11-29T20:59:03.022958",
     "exception": false,
     "start_time": "2024-11-29T20:59:02.993992",
     "status": "completed"
    },
    "tags": []
   },
   "outputs": [
    {
     "data": {
      "text/html": [
       "<div>\n",
       "<style scoped>\n",
       "    .dataframe tbody tr th:only-of-type {\n",
       "        vertical-align: middle;\n",
       "    }\n",
       "\n",
       "    .dataframe tbody tr th {\n",
       "        vertical-align: top;\n",
       "    }\n",
       "\n",
       "    .dataframe thead th {\n",
       "        text-align: right;\n",
       "    }\n",
       "</style>\n",
       "<table border=\"1\" class=\"dataframe\">\n",
       "  <thead>\n",
       "    <tr style=\"text-align: right;\">\n",
       "      <th></th>\n",
       "      <th></th>\n",
       "      <th>SexuponOutcome</th>\n",
       "      <th>AnimalType</th>\n",
       "      <th>AgeuponOutcome</th>\n",
       "      <th>Breed</th>\n",
       "      <th>Color</th>\n",
       "      <th>DateTime</th>\n",
       "      <th>ID</th>\n",
       "    </tr>\n",
       "  </thead>\n",
       "  <tbody>\n",
       "    <tr>\n",
       "      <th rowspan=\"5\" valign=\"top\">train</th>\n",
       "      <th>0</th>\n",
       "      <td>Neutered Male</td>\n",
       "      <td>Cat</td>\n",
       "      <td>2 months</td>\n",
       "      <td>Domestic Shorthair Mix</td>\n",
       "      <td>Black/White</td>\n",
       "      <td>2014-06-11 14:36:00</td>\n",
       "      <td>0</td>\n",
       "    </tr>\n",
       "    <tr>\n",
       "      <th>1</th>\n",
       "      <td>Intact Female</td>\n",
       "      <td>Cat</td>\n",
       "      <td>1 month</td>\n",
       "      <td>Domestic Shorthair Mix</td>\n",
       "      <td>Tortie/White</td>\n",
       "      <td>2014-07-18 08:10:00</td>\n",
       "      <td>1</td>\n",
       "    </tr>\n",
       "    <tr>\n",
       "      <th>2</th>\n",
       "      <td>Neutered Male</td>\n",
       "      <td>Dog</td>\n",
       "      <td>3 months</td>\n",
       "      <td>Chihuahua Shorthair Mix</td>\n",
       "      <td>Yellow</td>\n",
       "      <td>2016-01-02 17:28:00</td>\n",
       "      <td>2</td>\n",
       "    </tr>\n",
       "    <tr>\n",
       "      <th>3</th>\n",
       "      <td>Spayed Female</td>\n",
       "      <td>Cat</td>\n",
       "      <td>2 years</td>\n",
       "      <td>Domestic Shorthair Mix</td>\n",
       "      <td>Calico</td>\n",
       "      <td>2014-02-19 17:27:00</td>\n",
       "      <td>3</td>\n",
       "    </tr>\n",
       "    <tr>\n",
       "      <th>4</th>\n",
       "      <td>Neutered Male</td>\n",
       "      <td>Cat</td>\n",
       "      <td>2 months</td>\n",
       "      <td>Domestic Shorthair Mix</td>\n",
       "      <td>Orange Tabby</td>\n",
       "      <td>2014-07-21 17:34:00</td>\n",
       "      <td>4</td>\n",
       "    </tr>\n",
       "    <tr>\n",
       "      <th>...</th>\n",
       "      <th>...</th>\n",
       "      <td>...</td>\n",
       "      <td>...</td>\n",
       "      <td>...</td>\n",
       "      <td>...</td>\n",
       "      <td>...</td>\n",
       "      <td>...</td>\n",
       "      <td>...</td>\n",
       "    </tr>\n",
       "    <tr>\n",
       "      <th rowspan=\"5\" valign=\"top\">test</th>\n",
       "      <th>8014</th>\n",
       "      <td>Spayed Female</td>\n",
       "      <td>Dog</td>\n",
       "      <td>8 months</td>\n",
       "      <td>Pit Bull/Queensland Heeler</td>\n",
       "      <td>Brown Brindle/White</td>\n",
       "      <td>2015-04-11 17:30:00</td>\n",
       "      <td>8014</td>\n",
       "    </tr>\n",
       "    <tr>\n",
       "      <th>8015</th>\n",
       "      <td>Intact Female</td>\n",
       "      <td>Dog</td>\n",
       "      <td>9 years</td>\n",
       "      <td>Chihuahua Shorthair Mix</td>\n",
       "      <td>Tan</td>\n",
       "      <td>2015-10-12 14:16:00</td>\n",
       "      <td>8015</td>\n",
       "    </tr>\n",
       "    <tr>\n",
       "      <th>8016</th>\n",
       "      <td>Neutered Male</td>\n",
       "      <td>Dog</td>\n",
       "      <td>3 years</td>\n",
       "      <td>Pit Bull Mix</td>\n",
       "      <td>Yellow Brindle/Blue</td>\n",
       "      <td>2014-12-17 16:25:00</td>\n",
       "      <td>8016</td>\n",
       "    </tr>\n",
       "    <tr>\n",
       "      <th>8017</th>\n",
       "      <td>Intact Male</td>\n",
       "      <td>Cat</td>\n",
       "      <td>3 weeks</td>\n",
       "      <td>Domestic Shorthair Mix</td>\n",
       "      <td>Brown Tabby</td>\n",
       "      <td>2014-09-10 18:48:00</td>\n",
       "      <td>8017</td>\n",
       "    </tr>\n",
       "    <tr>\n",
       "      <th>8018</th>\n",
       "      <td>Intact Male</td>\n",
       "      <td>Dog</td>\n",
       "      <td>2 years</td>\n",
       "      <td>Rat Terrier</td>\n",
       "      <td>Tricolor</td>\n",
       "      <td>2015-11-08 09:03:00</td>\n",
       "      <td>8018</td>\n",
       "    </tr>\n",
       "  </tbody>\n",
       "</table>\n",
       "<p>26729 rows × 7 columns</p>\n",
       "</div>"
      ],
      "text/plain": [
       "           SexuponOutcome AnimalType AgeuponOutcome  \\\n",
       "train 0     Neutered Male        Cat       2 months   \n",
       "      1     Intact Female        Cat        1 month   \n",
       "      2     Neutered Male        Dog       3 months   \n",
       "      3     Spayed Female        Cat        2 years   \n",
       "      4     Neutered Male        Cat       2 months   \n",
       "...                   ...        ...            ...   \n",
       "test  8014  Spayed Female        Dog       8 months   \n",
       "      8015  Intact Female        Dog        9 years   \n",
       "      8016  Neutered Male        Dog        3 years   \n",
       "      8017    Intact Male        Cat        3 weeks   \n",
       "      8018    Intact Male        Dog        2 years   \n",
       "\n",
       "                                 Breed                Color  \\\n",
       "train 0         Domestic Shorthair Mix          Black/White   \n",
       "      1         Domestic Shorthair Mix         Tortie/White   \n",
       "      2        Chihuahua Shorthair Mix               Yellow   \n",
       "      3         Domestic Shorthair Mix               Calico   \n",
       "      4         Domestic Shorthair Mix         Orange Tabby   \n",
       "...                                ...                  ...   \n",
       "test  8014  Pit Bull/Queensland Heeler  Brown Brindle/White   \n",
       "      8015     Chihuahua Shorthair Mix                  Tan   \n",
       "      8016                Pit Bull Mix  Yellow Brindle/Blue   \n",
       "      8017      Domestic Shorthair Mix          Brown Tabby   \n",
       "      8018                 Rat Terrier             Tricolor   \n",
       "\n",
       "                       DateTime    ID  \n",
       "train 0     2014-06-11 14:36:00     0  \n",
       "      1     2014-07-18 08:10:00     1  \n",
       "      2     2016-01-02 17:28:00     2  \n",
       "      3     2014-02-19 17:27:00     3  \n",
       "      4     2014-07-21 17:34:00     4  \n",
       "...                         ...   ...  \n",
       "test  8014  2015-04-11 17:30:00  8014  \n",
       "      8015  2015-10-12 14:16:00  8015  \n",
       "      8016  2014-12-17 16:25:00  8016  \n",
       "      8017  2014-09-10 18:48:00  8017  \n",
       "      8018  2015-11-08 09:03:00  8018  \n",
       "\n",
       "[26729 rows x 7 columns]"
      ]
     },
     "execution_count": 11,
     "metadata": {},
     "output_type": "execute_result"
    }
   ],
   "source": [
    "df"
   ]
  },
  {
   "cell_type": "markdown",
   "id": "5b17f5f6",
   "metadata": {
    "papermill": {
     "duration": 0.009298,
     "end_time": "2024-11-29T20:59:03.042276",
     "exception": false,
     "start_time": "2024-11-29T20:59:03.032978",
     "status": "completed"
    },
    "tags": []
   },
   "source": [
    "Проверяем наличие null значений в столбцах"
   ]
  },
  {
   "cell_type": "code",
   "execution_count": 12,
   "id": "d250b026",
   "metadata": {
    "execution": {
     "iopub.execute_input": "2024-11-29T20:59:03.063628Z",
     "iopub.status.busy": "2024-11-29T20:59:03.062698Z",
     "iopub.status.idle": "2024-11-29T20:59:03.079266Z",
     "shell.execute_reply": "2024-11-29T20:59:03.078210Z"
    },
    "papermill": {
     "duration": 0.029435,
     "end_time": "2024-11-29T20:59:03.081429",
     "exception": false,
     "start_time": "2024-11-29T20:59:03.051994",
     "status": "completed"
    },
    "tags": []
   },
   "outputs": [
    {
     "data": {
      "text/plain": [
       "SexuponOutcome     True\n",
       "AnimalType        False\n",
       "AgeuponOutcome     True\n",
       "Breed             False\n",
       "Color             False\n",
       "DateTime          False\n",
       "ID                False\n",
       "dtype: bool"
      ]
     },
     "execution_count": 12,
     "metadata": {},
     "output_type": "execute_result"
    }
   ],
   "source": [
    "df.isna().any()"
   ]
  },
  {
   "cell_type": "markdown",
   "id": "32283ac1",
   "metadata": {
    "papermill": {
     "duration": 0.00972,
     "end_time": "2024-11-29T20:59:03.100999",
     "exception": false,
     "start_time": "2024-11-29T20:59:03.091279",
     "status": "completed"
    },
    "tags": []
   },
   "source": [
    "Заполняем null значения модой, так как столбцы по большому счету категориальные"
   ]
  },
  {
   "cell_type": "code",
   "execution_count": 13,
   "id": "b4947a40",
   "metadata": {
    "execution": {
     "iopub.execute_input": "2024-11-29T20:59:03.122766Z",
     "iopub.status.busy": "2024-11-29T20:59:03.122395Z",
     "iopub.status.idle": "2024-11-29T20:59:03.133820Z",
     "shell.execute_reply": "2024-11-29T20:59:03.132920Z"
    },
    "papermill": {
     "duration": 0.024987,
     "end_time": "2024-11-29T20:59:03.136168",
     "exception": false,
     "start_time": "2024-11-29T20:59:03.111181",
     "status": "completed"
    },
    "tags": []
   },
   "outputs": [],
   "source": [
    "df['SexuponOutcome'] = df['SexuponOutcome'].fillna(df['SexuponOutcome'].mode()[0])"
   ]
  },
  {
   "cell_type": "code",
   "execution_count": 14,
   "id": "c7646c3e",
   "metadata": {
    "execution": {
     "iopub.execute_input": "2024-11-29T20:59:03.157997Z",
     "iopub.status.busy": "2024-11-29T20:59:03.157305Z",
     "iopub.status.idle": "2024-11-29T20:59:03.167222Z",
     "shell.execute_reply": "2024-11-29T20:59:03.166333Z"
    },
    "papermill": {
     "duration": 0.023179,
     "end_time": "2024-11-29T20:59:03.169274",
     "exception": false,
     "start_time": "2024-11-29T20:59:03.146095",
     "status": "completed"
    },
    "tags": []
   },
   "outputs": [],
   "source": [
    "df['AgeuponOutcome'] = df['AgeuponOutcome'].fillna(df['AgeuponOutcome'].mode()[0])"
   ]
  },
  {
   "cell_type": "code",
   "execution_count": 15,
   "id": "9c4f42e4",
   "metadata": {
    "execution": {
     "iopub.execute_input": "2024-11-29T20:59:03.190973Z",
     "iopub.status.busy": "2024-11-29T20:59:03.190283Z",
     "iopub.status.idle": "2024-11-29T20:59:03.205997Z",
     "shell.execute_reply": "2024-11-29T20:59:03.205036Z"
    },
    "papermill": {
     "duration": 0.028793,
     "end_time": "2024-11-29T20:59:03.208038",
     "exception": false,
     "start_time": "2024-11-29T20:59:03.179245",
     "status": "completed"
    },
    "tags": []
   },
   "outputs": [
    {
     "data": {
      "text/plain": [
       "SexuponOutcome    False\n",
       "AnimalType        False\n",
       "AgeuponOutcome    False\n",
       "Breed             False\n",
       "Color             False\n",
       "DateTime          False\n",
       "ID                False\n",
       "dtype: bool"
      ]
     },
     "execution_count": 15,
     "metadata": {},
     "output_type": "execute_result"
    }
   ],
   "source": [
    "df.isna().any()"
   ]
  },
  {
   "cell_type": "markdown",
   "id": "2f396eee",
   "metadata": {
    "papermill": {
     "duration": 0.009575,
     "end_time": "2024-11-29T20:59:03.227507",
     "exception": false,
     "start_time": "2024-11-29T20:59:03.217932",
     "status": "completed"
    },
    "tags": []
   },
   "source": [
    "Преобразуем 'AgeuponOutcome' в числовой формат (количество дней)"
   ]
  },
  {
   "cell_type": "code",
   "execution_count": 16,
   "id": "191e8bfe",
   "metadata": {
    "execution": {
     "iopub.execute_input": "2024-11-29T20:59:03.249725Z",
     "iopub.status.busy": "2024-11-29T20:59:03.248736Z",
     "iopub.status.idle": "2024-11-29T20:59:03.292086Z",
     "shell.execute_reply": "2024-11-29T20:59:03.291012Z"
    },
    "papermill": {
     "duration": 0.057,
     "end_time": "2024-11-29T20:59:03.294376",
     "exception": false,
     "start_time": "2024-11-29T20:59:03.237376",
     "status": "completed"
    },
    "tags": []
   },
   "outputs": [],
   "source": [
    "df['AgeuponOutcome'] = df['AgeuponOutcome'].map(lambda x: \n",
    "                              int(str(x).split()[0]) if 'day' in str(x).split()[1] else \n",
    "                             int(str(x).split()[0])*7 if 'week' in str(x).split()[1] else\n",
    "                             int(str(x).split()[0])*30 if 'month' in str(x).split()[1] else\n",
    "                             int(str(x).split()[0])*365)"
   ]
  },
  {
   "cell_type": "code",
   "execution_count": 17,
   "id": "7b22be6e",
   "metadata": {
    "execution": {
     "iopub.execute_input": "2024-11-29T20:59:03.316229Z",
     "iopub.status.busy": "2024-11-29T20:59:03.315871Z",
     "iopub.status.idle": "2024-11-29T20:59:03.330227Z",
     "shell.execute_reply": "2024-11-29T20:59:03.329230Z"
    },
    "papermill": {
     "duration": 0.027471,
     "end_time": "2024-11-29T20:59:03.332292",
     "exception": false,
     "start_time": "2024-11-29T20:59:03.304821",
     "status": "completed"
    },
    "tags": []
   },
   "outputs": [
    {
     "data": {
      "text/html": [
       "<div>\n",
       "<style scoped>\n",
       "    .dataframe tbody tr th:only-of-type {\n",
       "        vertical-align: middle;\n",
       "    }\n",
       "\n",
       "    .dataframe tbody tr th {\n",
       "        vertical-align: top;\n",
       "    }\n",
       "\n",
       "    .dataframe thead th {\n",
       "        text-align: right;\n",
       "    }\n",
       "</style>\n",
       "<table border=\"1\" class=\"dataframe\">\n",
       "  <thead>\n",
       "    <tr style=\"text-align: right;\">\n",
       "      <th></th>\n",
       "      <th></th>\n",
       "      <th>SexuponOutcome</th>\n",
       "      <th>AnimalType</th>\n",
       "      <th>AgeuponOutcome</th>\n",
       "      <th>Breed</th>\n",
       "      <th>Color</th>\n",
       "      <th>DateTime</th>\n",
       "      <th>ID</th>\n",
       "    </tr>\n",
       "  </thead>\n",
       "  <tbody>\n",
       "    <tr>\n",
       "      <th rowspan=\"5\" valign=\"top\">train</th>\n",
       "      <th>0</th>\n",
       "      <td>Neutered Male</td>\n",
       "      <td>Cat</td>\n",
       "      <td>60</td>\n",
       "      <td>Domestic Shorthair Mix</td>\n",
       "      <td>Black/White</td>\n",
       "      <td>2014-06-11 14:36:00</td>\n",
       "      <td>0</td>\n",
       "    </tr>\n",
       "    <tr>\n",
       "      <th>1</th>\n",
       "      <td>Intact Female</td>\n",
       "      <td>Cat</td>\n",
       "      <td>30</td>\n",
       "      <td>Domestic Shorthair Mix</td>\n",
       "      <td>Tortie/White</td>\n",
       "      <td>2014-07-18 08:10:00</td>\n",
       "      <td>1</td>\n",
       "    </tr>\n",
       "    <tr>\n",
       "      <th>2</th>\n",
       "      <td>Neutered Male</td>\n",
       "      <td>Dog</td>\n",
       "      <td>90</td>\n",
       "      <td>Chihuahua Shorthair Mix</td>\n",
       "      <td>Yellow</td>\n",
       "      <td>2016-01-02 17:28:00</td>\n",
       "      <td>2</td>\n",
       "    </tr>\n",
       "    <tr>\n",
       "      <th>3</th>\n",
       "      <td>Spayed Female</td>\n",
       "      <td>Cat</td>\n",
       "      <td>730</td>\n",
       "      <td>Domestic Shorthair Mix</td>\n",
       "      <td>Calico</td>\n",
       "      <td>2014-02-19 17:27:00</td>\n",
       "      <td>3</td>\n",
       "    </tr>\n",
       "    <tr>\n",
       "      <th>4</th>\n",
       "      <td>Neutered Male</td>\n",
       "      <td>Cat</td>\n",
       "      <td>60</td>\n",
       "      <td>Domestic Shorthair Mix</td>\n",
       "      <td>Orange Tabby</td>\n",
       "      <td>2014-07-21 17:34:00</td>\n",
       "      <td>4</td>\n",
       "    </tr>\n",
       "    <tr>\n",
       "      <th>...</th>\n",
       "      <th>...</th>\n",
       "      <td>...</td>\n",
       "      <td>...</td>\n",
       "      <td>...</td>\n",
       "      <td>...</td>\n",
       "      <td>...</td>\n",
       "      <td>...</td>\n",
       "      <td>...</td>\n",
       "    </tr>\n",
       "    <tr>\n",
       "      <th rowspan=\"5\" valign=\"top\">test</th>\n",
       "      <th>8014</th>\n",
       "      <td>Spayed Female</td>\n",
       "      <td>Dog</td>\n",
       "      <td>240</td>\n",
       "      <td>Pit Bull/Queensland Heeler</td>\n",
       "      <td>Brown Brindle/White</td>\n",
       "      <td>2015-04-11 17:30:00</td>\n",
       "      <td>8014</td>\n",
       "    </tr>\n",
       "    <tr>\n",
       "      <th>8015</th>\n",
       "      <td>Intact Female</td>\n",
       "      <td>Dog</td>\n",
       "      <td>3285</td>\n",
       "      <td>Chihuahua Shorthair Mix</td>\n",
       "      <td>Tan</td>\n",
       "      <td>2015-10-12 14:16:00</td>\n",
       "      <td>8015</td>\n",
       "    </tr>\n",
       "    <tr>\n",
       "      <th>8016</th>\n",
       "      <td>Neutered Male</td>\n",
       "      <td>Dog</td>\n",
       "      <td>1095</td>\n",
       "      <td>Pit Bull Mix</td>\n",
       "      <td>Yellow Brindle/Blue</td>\n",
       "      <td>2014-12-17 16:25:00</td>\n",
       "      <td>8016</td>\n",
       "    </tr>\n",
       "    <tr>\n",
       "      <th>8017</th>\n",
       "      <td>Intact Male</td>\n",
       "      <td>Cat</td>\n",
       "      <td>21</td>\n",
       "      <td>Domestic Shorthair Mix</td>\n",
       "      <td>Brown Tabby</td>\n",
       "      <td>2014-09-10 18:48:00</td>\n",
       "      <td>8017</td>\n",
       "    </tr>\n",
       "    <tr>\n",
       "      <th>8018</th>\n",
       "      <td>Intact Male</td>\n",
       "      <td>Dog</td>\n",
       "      <td>730</td>\n",
       "      <td>Rat Terrier</td>\n",
       "      <td>Tricolor</td>\n",
       "      <td>2015-11-08 09:03:00</td>\n",
       "      <td>8018</td>\n",
       "    </tr>\n",
       "  </tbody>\n",
       "</table>\n",
       "<p>26729 rows × 7 columns</p>\n",
       "</div>"
      ],
      "text/plain": [
       "           SexuponOutcome AnimalType  AgeuponOutcome  \\\n",
       "train 0     Neutered Male        Cat              60   \n",
       "      1     Intact Female        Cat              30   \n",
       "      2     Neutered Male        Dog              90   \n",
       "      3     Spayed Female        Cat             730   \n",
       "      4     Neutered Male        Cat              60   \n",
       "...                   ...        ...             ...   \n",
       "test  8014  Spayed Female        Dog             240   \n",
       "      8015  Intact Female        Dog            3285   \n",
       "      8016  Neutered Male        Dog            1095   \n",
       "      8017    Intact Male        Cat              21   \n",
       "      8018    Intact Male        Dog             730   \n",
       "\n",
       "                                 Breed                Color  \\\n",
       "train 0         Domestic Shorthair Mix          Black/White   \n",
       "      1         Domestic Shorthair Mix         Tortie/White   \n",
       "      2        Chihuahua Shorthair Mix               Yellow   \n",
       "      3         Domestic Shorthair Mix               Calico   \n",
       "      4         Domestic Shorthair Mix         Orange Tabby   \n",
       "...                                ...                  ...   \n",
       "test  8014  Pit Bull/Queensland Heeler  Brown Brindle/White   \n",
       "      8015     Chihuahua Shorthair Mix                  Tan   \n",
       "      8016                Pit Bull Mix  Yellow Brindle/Blue   \n",
       "      8017      Domestic Shorthair Mix          Brown Tabby   \n",
       "      8018                 Rat Terrier             Tricolor   \n",
       "\n",
       "                       DateTime    ID  \n",
       "train 0     2014-06-11 14:36:00     0  \n",
       "      1     2014-07-18 08:10:00     1  \n",
       "      2     2016-01-02 17:28:00     2  \n",
       "      3     2014-02-19 17:27:00     3  \n",
       "      4     2014-07-21 17:34:00     4  \n",
       "...                         ...   ...  \n",
       "test  8014  2015-04-11 17:30:00  8014  \n",
       "      8015  2015-10-12 14:16:00  8015  \n",
       "      8016  2014-12-17 16:25:00  8016  \n",
       "      8017  2014-09-10 18:48:00  8017  \n",
       "      8018  2015-11-08 09:03:00  8018  \n",
       "\n",
       "[26729 rows x 7 columns]"
      ]
     },
     "execution_count": 17,
     "metadata": {},
     "output_type": "execute_result"
    }
   ],
   "source": [
    "df"
   ]
  },
  {
   "cell_type": "markdown",
   "id": "ad180c0b",
   "metadata": {
    "papermill": {
     "duration": 0.009885,
     "end_time": "2024-11-29T20:59:03.352630",
     "exception": false,
     "start_time": "2024-11-29T20:59:03.342745",
     "status": "completed"
    },
    "tags": []
   },
   "source": [
    "Так как в 'Breed' и 'Color' очень много разных значений, лучше воспользоваться LabelEncoder, чем OneHotEncoder"
   ]
  },
  {
   "cell_type": "code",
   "execution_count": 18,
   "id": "04b577b5",
   "metadata": {
    "execution": {
     "iopub.execute_input": "2024-11-29T20:59:03.375537Z",
     "iopub.status.busy": "2024-11-29T20:59:03.375153Z",
     "iopub.status.idle": "2024-11-29T20:59:03.393485Z",
     "shell.execute_reply": "2024-11-29T20:59:03.392439Z"
    },
    "papermill": {
     "duration": 0.03278,
     "end_time": "2024-11-29T20:59:03.395615",
     "exception": false,
     "start_time": "2024-11-29T20:59:03.362835",
     "status": "completed"
    },
    "tags": []
   },
   "outputs": [],
   "source": [
    "categorical_features = ['Breed', 'Color']\n",
    "for feature in categorical_features:\n",
    "    encoder = LabelEncoder()\n",
    "    df[feature] = encoder.fit_transform(df[feature])"
   ]
  },
  {
   "cell_type": "markdown",
   "id": "5f9872cb",
   "metadata": {
    "papermill": {
     "duration": 0.009987,
     "end_time": "2024-11-29T20:59:03.416130",
     "exception": false,
     "start_time": "2024-11-29T20:59:03.406143",
     "status": "completed"
    },
    "tags": []
   },
   "source": [
    "Для колонок \"AnimalType\" и 'SexuponOutcome' стоит использовать get_dummies, так как в значениях нет четкой иерархии и их немного"
   ]
  },
  {
   "cell_type": "code",
   "execution_count": 19,
   "id": "eb332c5f",
   "metadata": {
    "execution": {
     "iopub.execute_input": "2024-11-29T20:59:03.438401Z",
     "iopub.status.busy": "2024-11-29T20:59:03.438010Z",
     "iopub.status.idle": "2024-11-29T20:59:03.462765Z",
     "shell.execute_reply": "2024-11-29T20:59:03.461752Z"
    },
    "papermill": {
     "duration": 0.038728,
     "end_time": "2024-11-29T20:59:03.465177",
     "exception": false,
     "start_time": "2024-11-29T20:59:03.426449",
     "status": "completed"
    },
    "tags": []
   },
   "outputs": [],
   "source": [
    "df[list(pd.get_dummies(df[[\"AnimalType\", 'SexuponOutcome']]).columns)] = pd.get_dummies(df[[\"AnimalType\", 'SexuponOutcome']])"
   ]
  },
  {
   "cell_type": "code",
   "execution_count": 20,
   "id": "3b9f1c88",
   "metadata": {
    "execution": {
     "iopub.execute_input": "2024-11-29T20:59:03.487324Z",
     "iopub.status.busy": "2024-11-29T20:59:03.486930Z",
     "iopub.status.idle": "2024-11-29T20:59:03.505565Z",
     "shell.execute_reply": "2024-11-29T20:59:03.504161Z"
    },
    "papermill": {
     "duration": 0.032551,
     "end_time": "2024-11-29T20:59:03.507975",
     "exception": false,
     "start_time": "2024-11-29T20:59:03.475424",
     "status": "completed"
    },
    "tags": []
   },
   "outputs": [],
   "source": [
    "df.drop(['AnimalType', 'SexuponOutcome'], axis=1, inplace=True)\n",
    "df[\"DateTime\"] = pandas_dates2number(df[\"DateTime\"])"
   ]
  },
  {
   "cell_type": "markdown",
   "id": "6a960082",
   "metadata": {
    "papermill": {
     "duration": 0.009938,
     "end_time": "2024-11-29T20:59:03.528046",
     "exception": false,
     "start_time": "2024-11-29T20:59:03.518108",
     "status": "completed"
    },
    "tags": []
   },
   "source": [
    "Разделим выборку обратно на train и test"
   ]
  },
  {
   "cell_type": "code",
   "execution_count": 21,
   "id": "3c8257cf",
   "metadata": {
    "execution": {
     "iopub.execute_input": "2024-11-29T20:59:03.549992Z",
     "iopub.status.busy": "2024-11-29T20:59:03.549534Z",
     "iopub.status.idle": "2024-11-29T20:59:03.559788Z",
     "shell.execute_reply": "2024-11-29T20:59:03.558983Z"
    },
    "papermill": {
     "duration": 0.023735,
     "end_time": "2024-11-29T20:59:03.561903",
     "exception": false,
     "start_time": "2024-11-29T20:59:03.538168",
     "status": "completed"
    },
    "tags": []
   },
   "outputs": [],
   "source": [
    "train = df.loc[['train']]"
   ]
  },
  {
   "cell_type": "code",
   "execution_count": 22,
   "id": "007a18bc",
   "metadata": {
    "execution": {
     "iopub.execute_input": "2024-11-29T20:59:03.584092Z",
     "iopub.status.busy": "2024-11-29T20:59:03.583294Z",
     "iopub.status.idle": "2024-11-29T20:59:03.590904Z",
     "shell.execute_reply": "2024-11-29T20:59:03.589897Z"
    },
    "papermill": {
     "duration": 0.020878,
     "end_time": "2024-11-29T20:59:03.592984",
     "exception": false,
     "start_time": "2024-11-29T20:59:03.572106",
     "status": "completed"
    },
    "tags": []
   },
   "outputs": [],
   "source": [
    "test = df.loc[['test']]"
   ]
  },
  {
   "cell_type": "markdown",
   "id": "af99c212",
   "metadata": {
    "papermill": {
     "duration": 0.009975,
     "end_time": "2024-11-29T20:59:03.613333",
     "exception": false,
     "start_time": "2024-11-29T20:59:03.603358",
     "status": "completed"
    },
    "tags": []
   },
   "source": [
    "Применим StandardScaler к данным"
   ]
  },
  {
   "cell_type": "code",
   "execution_count": 23,
   "id": "2bee9c0c",
   "metadata": {
    "execution": {
     "iopub.execute_input": "2024-11-29T20:59:03.635505Z",
     "iopub.status.busy": "2024-11-29T20:59:03.634794Z",
     "iopub.status.idle": "2024-11-29T20:59:03.650409Z",
     "shell.execute_reply": "2024-11-29T20:59:03.649558Z"
    },
    "papermill": {
     "duration": 0.029206,
     "end_time": "2024-11-29T20:59:03.652661",
     "exception": false,
     "start_time": "2024-11-29T20:59:03.623455",
     "status": "completed"
    },
    "tags": []
   },
   "outputs": [],
   "source": [
    "scaler = StandardScaler()\n",
    "train[['AgeuponOutcome', 'DateTime', 'Breed', 'Color']] = scaler.fit_transform(train[['AgeuponOutcome', 'DateTime', 'Breed', 'Color']])\n",
    "test[['AgeuponOutcome', 'DateTime', 'Breed', 'Color']] = scaler.transform(test[['AgeuponOutcome', 'DateTime', 'Breed', 'Color']])"
   ]
  },
  {
   "cell_type": "code",
   "execution_count": 24,
   "id": "064911dc",
   "metadata": {
    "execution": {
     "iopub.execute_input": "2024-11-29T20:59:03.675806Z",
     "iopub.status.busy": "2024-11-29T20:59:03.675388Z",
     "iopub.status.idle": "2024-11-29T20:59:03.692066Z",
     "shell.execute_reply": "2024-11-29T20:59:03.691008Z"
    },
    "papermill": {
     "duration": 0.03047,
     "end_time": "2024-11-29T20:59:03.694143",
     "exception": false,
     "start_time": "2024-11-29T20:59:03.663673",
     "status": "completed"
    },
    "tags": []
   },
   "outputs": [
    {
     "data": {
      "text/html": [
       "<div>\n",
       "<style scoped>\n",
       "    .dataframe tbody tr th:only-of-type {\n",
       "        vertical-align: middle;\n",
       "    }\n",
       "\n",
       "    .dataframe tbody tr th {\n",
       "        vertical-align: top;\n",
       "    }\n",
       "\n",
       "    .dataframe thead th {\n",
       "        text-align: right;\n",
       "    }\n",
       "</style>\n",
       "<table border=\"1\" class=\"dataframe\">\n",
       "  <thead>\n",
       "    <tr style=\"text-align: right;\">\n",
       "      <th></th>\n",
       "      <th></th>\n",
       "      <th>AgeuponOutcome</th>\n",
       "      <th>Breed</th>\n",
       "      <th>Color</th>\n",
       "      <th>DateTime</th>\n",
       "      <th>ID</th>\n",
       "      <th>AnimalType_Cat</th>\n",
       "      <th>AnimalType_Dog</th>\n",
       "      <th>SexuponOutcome_Intact Female</th>\n",
       "      <th>SexuponOutcome_Intact Male</th>\n",
       "      <th>SexuponOutcome_Neutered Male</th>\n",
       "      <th>SexuponOutcome_Spayed Female</th>\n",
       "      <th>SexuponOutcome_Unknown</th>\n",
       "    </tr>\n",
       "  </thead>\n",
       "  <tbody>\n",
       "    <tr>\n",
       "      <th rowspan=\"5\" valign=\"top\">train</th>\n",
       "      <th>0</th>\n",
       "      <td>-0.675006</td>\n",
       "      <td>-0.182735</td>\n",
       "      <td>-1.047185</td>\n",
       "      <td>-0.772149</td>\n",
       "      <td>0</td>\n",
       "      <td>True</td>\n",
       "      <td>False</td>\n",
       "      <td>False</td>\n",
       "      <td>False</td>\n",
       "      <td>True</td>\n",
       "      <td>False</td>\n",
       "      <td>False</td>\n",
       "    </tr>\n",
       "    <tr>\n",
       "      <th>1</th>\n",
       "      <td>-0.702585</td>\n",
       "      <td>-0.182735</td>\n",
       "      <td>1.316515</td>\n",
       "      <td>-0.623791</td>\n",
       "      <td>1</td>\n",
       "      <td>True</td>\n",
       "      <td>False</td>\n",
       "      <td>True</td>\n",
       "      <td>False</td>\n",
       "      <td>False</td>\n",
       "      <td>False</td>\n",
       "      <td>False</td>\n",
       "    </tr>\n",
       "    <tr>\n",
       "      <th>2</th>\n",
       "      <td>-0.647426</td>\n",
       "      <td>-0.830486</td>\n",
       "      <td>1.775143</td>\n",
       "      <td>1.530525</td>\n",
       "      <td>2</td>\n",
       "      <td>False</td>\n",
       "      <td>True</td>\n",
       "      <td>False</td>\n",
       "      <td>False</td>\n",
       "      <td>True</td>\n",
       "      <td>False</td>\n",
       "      <td>False</td>\n",
       "    </tr>\n",
       "    <tr>\n",
       "      <th>3</th>\n",
       "      <td>-0.059061</td>\n",
       "      <td>-0.182735</td>\n",
       "      <td>-0.156388</td>\n",
       "      <td>-1.224030</td>\n",
       "      <td>3</td>\n",
       "      <td>True</td>\n",
       "      <td>False</td>\n",
       "      <td>False</td>\n",
       "      <td>False</td>\n",
       "      <td>False</td>\n",
       "      <td>True</td>\n",
       "      <td>False</td>\n",
       "    </tr>\n",
       "    <tr>\n",
       "      <th>4</th>\n",
       "      <td>-0.675006</td>\n",
       "      <td>-0.182735</td>\n",
       "      <td>0.522735</td>\n",
       "      <td>-0.610093</td>\n",
       "      <td>4</td>\n",
       "      <td>True</td>\n",
       "      <td>False</td>\n",
       "      <td>False</td>\n",
       "      <td>False</td>\n",
       "      <td>True</td>\n",
       "      <td>False</td>\n",
       "      <td>False</td>\n",
       "    </tr>\n",
       "  </tbody>\n",
       "</table>\n",
       "</div>"
      ],
      "text/plain": [
       "         AgeuponOutcome     Breed     Color  DateTime  ID  AnimalType_Cat  \\\n",
       "train 0       -0.675006 -0.182735 -1.047185 -0.772149   0            True   \n",
       "      1       -0.702585 -0.182735  1.316515 -0.623791   1            True   \n",
       "      2       -0.647426 -0.830486  1.775143  1.530525   2           False   \n",
       "      3       -0.059061 -0.182735 -0.156388 -1.224030   3            True   \n",
       "      4       -0.675006 -0.182735  0.522735 -0.610093   4            True   \n",
       "\n",
       "         AnimalType_Dog  SexuponOutcome_Intact Female  \\\n",
       "train 0           False                         False   \n",
       "      1           False                          True   \n",
       "      2            True                         False   \n",
       "      3           False                         False   \n",
       "      4           False                         False   \n",
       "\n",
       "         SexuponOutcome_Intact Male  SexuponOutcome_Neutered Male  \\\n",
       "train 0                       False                          True   \n",
       "      1                       False                         False   \n",
       "      2                       False                          True   \n",
       "      3                       False                         False   \n",
       "      4                       False                          True   \n",
       "\n",
       "         SexuponOutcome_Spayed Female  SexuponOutcome_Unknown  \n",
       "train 0                         False                   False  \n",
       "      1                         False                   False  \n",
       "      2                         False                   False  \n",
       "      3                          True                   False  \n",
       "      4                         False                   False  "
      ]
     },
     "execution_count": 24,
     "metadata": {},
     "output_type": "execute_result"
    }
   ],
   "source": [
    "train.head()"
   ]
  },
  {
   "cell_type": "code",
   "execution_count": 25,
   "id": "1664b285",
   "metadata": {
    "execution": {
     "iopub.execute_input": "2024-11-29T20:59:03.718958Z",
     "iopub.status.busy": "2024-11-29T20:59:03.718064Z",
     "iopub.status.idle": "2024-11-29T20:59:03.722625Z",
     "shell.execute_reply": "2024-11-29T20:59:03.721640Z"
    },
    "papermill": {
     "duration": 0.018966,
     "end_time": "2024-11-29T20:59:03.724723",
     "exception": false,
     "start_time": "2024-11-29T20:59:03.705757",
     "status": "completed"
    },
    "tags": []
   },
   "outputs": [],
   "source": [
    "from sklearn.model_selection import train_test_split"
   ]
  },
  {
   "cell_type": "markdown",
   "id": "f130a777",
   "metadata": {
    "papermill": {
     "duration": 0.01043,
     "end_time": "2024-11-29T20:59:03.745787",
     "exception": false,
     "start_time": "2024-11-29T20:59:03.735357",
     "status": "completed"
    },
    "tags": []
   },
   "source": [
    "Разделим тренировочную выборку на тренировочную и валидационную, указывая стратификацию по целевой переменной"
   ]
  },
  {
   "cell_type": "code",
   "execution_count": 26,
   "id": "fefd6b1b",
   "metadata": {
    "execution": {
     "iopub.execute_input": "2024-11-29T20:59:03.768941Z",
     "iopub.status.busy": "2024-11-29T20:59:03.768513Z",
     "iopub.status.idle": "2024-11-29T20:59:03.786974Z",
     "shell.execute_reply": "2024-11-29T20:59:03.785787Z"
    },
    "papermill": {
     "duration": 0.032395,
     "end_time": "2024-11-29T20:59:03.789303",
     "exception": false,
     "start_time": "2024-11-29T20:59:03.756908",
     "status": "completed"
    },
    "tags": []
   },
   "outputs": [],
   "source": [
    "X_train, X_val, y_train, y_val = train_test_split(\n",
    "                                                    train.drop([\"ID\"], axis=1),\n",
    "                                                    df_train['Outcome'],\n",
    "                                                    test_size=0.25,\n",
    "                                                    random_state=SEED,\n",
    "                                                    stratify=df_train['Outcome'],\n",
    "                                        )"
   ]
  },
  {
   "cell_type": "markdown",
   "id": "2c7cc996",
   "metadata": {
    "papermill": {
     "duration": 0.010156,
     "end_time": "2024-11-29T20:59:03.810021",
     "exception": false,
     "start_time": "2024-11-29T20:59:03.799865",
     "status": "completed"
    },
    "tags": []
   },
   "source": [
    "Combine everything, ensure same preprocessing or train and test. \n",
    "\n",
    "*HINT: use sklearn Pipeline of OneHorEncoder, ...* "
   ]
  },
  {
   "cell_type": "markdown",
   "id": "0578ea6a",
   "metadata": {
    "papermill": {
     "duration": 0.010146,
     "end_time": "2024-11-29T20:59:03.830685",
     "exception": false,
     "start_time": "2024-11-29T20:59:03.820539",
     "status": "completed"
    },
    "tags": []
   },
   "source": [
    "# Model"
   ]
  },
  {
   "cell_type": "markdown",
   "id": "c0373d62",
   "metadata": {
    "papermill": {
     "duration": 0.010113,
     "end_time": "2024-11-29T20:59:03.851249",
     "exception": false,
     "start_time": "2024-11-29T20:59:03.841136",
     "status": "completed"
    },
    "tags": []
   },
   "source": [
    "**TODO:**\n",
    "* train-val split\n",
    "* cross calidation\n",
    "* advanced models and ensembling\n",
    "* hyperparameter tuning"
   ]
  },
  {
   "cell_type": "markdown",
   "id": "2017c6df",
   "metadata": {
    "papermill": {
     "duration": 0.009974,
     "end_time": "2024-11-29T20:59:03.871511",
     "exception": false,
     "start_time": "2024-11-29T20:59:03.861537",
     "status": "completed"
    },
    "tags": []
   },
   "source": [
    "Поспотрим соотношение классов "
   ]
  },
  {
   "cell_type": "code",
   "execution_count": 27,
   "id": "9b0911b8",
   "metadata": {
    "execution": {
     "iopub.execute_input": "2024-11-29T20:59:03.893882Z",
     "iopub.status.busy": "2024-11-29T20:59:03.893469Z",
     "iopub.status.idle": "2024-11-29T20:59:03.904599Z",
     "shell.execute_reply": "2024-11-29T20:59:03.903613Z"
    },
    "papermill": {
     "duration": 0.024758,
     "end_time": "2024-11-29T20:59:03.906643",
     "exception": false,
     "start_time": "2024-11-29T20:59:03.881885",
     "status": "completed"
    },
    "tags": []
   },
   "outputs": [
    {
     "data": {
      "text/plain": [
       "Outcome\n",
       "0      2.482091\n",
       "1      2.836998\n",
       "2      5.585075\n",
       "3     17.180900\n",
       "4    135.579710\n",
       "Name: count, dtype: float64"
      ]
     },
     "execution_count": 27,
     "metadata": {},
     "output_type": "execute_result"
    }
   ],
   "source": [
    "1/(df_train.Outcome.value_counts()/df_train.shape[0])"
   ]
  },
  {
   "cell_type": "markdown",
   "id": "216b1012",
   "metadata": {
    "papermill": {
     "duration": 0.010369,
     "end_time": "2024-11-29T20:59:03.927608",
     "exception": false,
     "start_time": "2024-11-29T20:59:03.917239",
     "status": "completed"
    },
    "tags": []
   },
   "source": [
    "Применим GridSearchCV со случайным лесом (в param_grid некоторые значения не перебираются, так как я по прошлым запускам понял, что они всегда являются оптимальными)"
   ]
  },
  {
   "cell_type": "code",
   "execution_count": 28,
   "id": "e15af67a",
   "metadata": {
    "_cell_guid": "1810b12a-459c-48e3-bf51-dfdcd02be0ef",
    "_uuid": "35e980e2-75cb-456e-abc7-49ce952e4931",
    "collapsed": false,
    "execution": {
     "iopub.execute_input": "2024-11-29T20:59:03.950778Z",
     "iopub.status.busy": "2024-11-29T20:59:03.949763Z",
     "iopub.status.idle": "2024-11-29T20:59:03.955330Z",
     "shell.execute_reply": "2024-11-29T20:59:03.954385Z"
    },
    "jupyter": {
     "outputs_hidden": false
    },
    "papermill": {
     "duration": 0.019137,
     "end_time": "2024-11-29T20:59:03.957265",
     "exception": false,
     "start_time": "2024-11-29T20:59:03.938128",
     "status": "completed"
    },
    "tags": []
   },
   "outputs": [],
   "source": [
    "param_grid = {\n",
    "    \"n_estimators\": [190],\n",
    "    \"min_samples_leaf\": [7],\n",
    "    \"max_samples\": [0.3],\n",
    "    \"class_weight\" : [{0: 2.482091,\n",
    "1: 2.836998,\n",
    "2: 5.585075,\n",
    "3: 17.180900,\n",
    "4: 135.579710}],\n",
    "    'min_samples_split': [2],\n",
    "    'max_depth': [None, 3, 15, 20, 25]\n",
    "}"
   ]
  },
  {
   "cell_type": "markdown",
   "id": "119f0186",
   "metadata": {
    "papermill": {
     "duration": 0.010272,
     "end_time": "2024-11-29T20:59:03.978252",
     "exception": false,
     "start_time": "2024-11-29T20:59:03.967980",
     "status": "completed"
    },
    "tags": []
   },
   "source": [
    "Для оценки моделей через GridSearchCV укажем метрику F1-macro"
   ]
  },
  {
   "cell_type": "code",
   "execution_count": 29,
   "id": "4b1c7f75",
   "metadata": {
    "execution": {
     "iopub.execute_input": "2024-11-29T20:59:04.001389Z",
     "iopub.status.busy": "2024-11-29T20:59:04.000982Z",
     "iopub.status.idle": "2024-11-29T20:59:25.323963Z",
     "shell.execute_reply": "2024-11-29T20:59:25.322871Z"
    },
    "papermill": {
     "duration": 21.336962,
     "end_time": "2024-11-29T20:59:25.326038",
     "exception": false,
     "start_time": "2024-11-29T20:59:03.989076",
     "status": "completed"
    },
    "tags": []
   },
   "outputs": [
    {
     "name": "stdout",
     "output_type": "stream",
     "text": [
      "Fitting 5 folds for each of 5 candidates, totalling 25 fits\n",
      "Best params on dev set:\n",
      "{'class_weight': {0: 2.482091, 1: 2.836998, 2: 5.585075, 3: 17.1809, 4: 135.57971}, 'max_depth': None, 'max_samples': 0.3, 'min_samples_leaf': 7, 'min_samples_split': 2, 'n_estimators': 190}\n",
      "Scores on development set:\n",
      "0.439 (+/-0.014) for {'class_weight': {0: 2.482091, 1: 2.836998, 2: 5.585075, 3: 17.1809, 4: 135.57971}, 'max_depth': None, 'max_samples': 0.3, 'min_samples_leaf': 7, 'min_samples_split': 2, 'n_estimators': 190}\n",
      "0.330 (+/-0.018) for {'class_weight': {0: 2.482091, 1: 2.836998, 2: 5.585075, 3: 17.1809, 4: 135.57971}, 'max_depth': 3, 'max_samples': 0.3, 'min_samples_leaf': 7, 'min_samples_split': 2, 'n_estimators': 190}\n",
      "0.436 (+/-0.014) for {'class_weight': {0: 2.482091, 1: 2.836998, 2: 5.585075, 3: 17.1809, 4: 135.57971}, 'max_depth': 15, 'max_samples': 0.3, 'min_samples_leaf': 7, 'min_samples_split': 2, 'n_estimators': 190}\n",
      "0.438 (+/-0.013) for {'class_weight': {0: 2.482091, 1: 2.836998, 2: 5.585075, 3: 17.1809, 4: 135.57971}, 'max_depth': 20, 'max_samples': 0.3, 'min_samples_leaf': 7, 'min_samples_split': 2, 'n_estimators': 190}\n",
      "0.439 (+/-0.014) for {'class_weight': {0: 2.482091, 1: 2.836998, 2: 5.585075, 3: 17.1809, 4: 135.57971}, 'max_depth': 25, 'max_samples': 0.3, 'min_samples_leaf': 7, 'min_samples_split': 2, 'n_estimators': 190}\n",
      "              precision    recall  f1-score   support\n",
      "\n",
      "           0       0.71      0.66      0.69      1885\n",
      "           1       0.76      0.57      0.65      1649\n",
      "           2       0.40      0.60      0.48       838\n",
      "           3       0.28      0.37      0.32       272\n",
      "           4       0.18      0.26      0.21        34\n",
      "\n",
      "    accuracy                           0.60      4678\n",
      "   macro avg       0.47      0.49      0.47      4678\n",
      "weighted avg       0.64      0.60      0.61      4678\n",
      "\n",
      "\n"
     ]
    }
   ],
   "source": [
    "f1 = make_scorer(f1_score , average='macro')\n",
    "\n",
    "clf = GridSearchCV(RandomForestClassifier(n_jobs=-1, random_state=SEED), \n",
    "                       param_grid, scoring=f1, verbose=1, cv=5)\n",
    "\n",
    "clf.fit(X_train, y_train)\n",
    "\n",
    "print(\"Best params on dev set:\")\n",
    "print(clf.best_params_)\n",
    "    \n",
    "print(\"Scores on development set:\")\n",
    "means = clf.cv_results_['mean_test_score']\n",
    "stds = clf.cv_results_['std_test_score']\n",
    "\n",
    "for mean, std, params in zip(means, stds, clf.cv_results_['params']):\n",
    "    print(\"%0.3f (+/-%0.03f) for %r\" % (mean, std * 2, params))\n",
    "    \n",
    "best_model = clf.best_estimator_\n",
    "best_model.fit(X_train, y_train)\n",
    "\n",
    "y_true, y_pred = y_val, best_model.predict(X_val)\n",
    "    \n",
    "print(classification_report(y_true, y_pred))\n",
    "print()"
   ]
  },
  {
   "cell_type": "markdown",
   "id": "93a574fe",
   "metadata": {
    "papermill": {
     "duration": 0.010254,
     "end_time": "2024-11-29T20:59:25.347136",
     "exception": false,
     "start_time": "2024-11-29T20:59:25.336882",
     "status": "completed"
    },
    "tags": []
   },
   "source": [
    "finally, save test predictions of the best model to csv"
   ]
  },
  {
   "cell_type": "code",
   "execution_count": 30,
   "id": "07114e03",
   "metadata": {
    "execution": {
     "iopub.execute_input": "2024-11-29T20:59:25.370508Z",
     "iopub.status.busy": "2024-11-29T20:59:25.369537Z",
     "iopub.status.idle": "2024-11-29T20:59:25.376177Z",
     "shell.execute_reply": "2024-11-29T20:59:25.375245Z"
    },
    "papermill": {
     "duration": 0.020523,
     "end_time": "2024-11-29T20:59:25.378164",
     "exception": false,
     "start_time": "2024-11-29T20:59:25.357641",
     "status": "completed"
    },
    "tags": []
   },
   "outputs": [
    {
     "data": {
      "text/plain": [
       "{'class_weight': {0: 2.482091,\n",
       "  1: 2.836998,\n",
       "  2: 5.585075,\n",
       "  3: 17.1809,\n",
       "  4: 135.57971},\n",
       " 'max_depth': None,\n",
       " 'max_samples': 0.3,\n",
       " 'min_samples_leaf': 7,\n",
       " 'min_samples_split': 2,\n",
       " 'n_estimators': 190}"
      ]
     },
     "execution_count": 30,
     "metadata": {},
     "output_type": "execute_result"
    }
   ],
   "source": [
    "clf.best_params_"
   ]
  },
  {
   "cell_type": "code",
   "execution_count": 31,
   "id": "3d3fccc2",
   "metadata": {
    "execution": {
     "iopub.execute_input": "2024-11-29T20:59:25.401539Z",
     "iopub.status.busy": "2024-11-29T20:59:25.401159Z",
     "iopub.status.idle": "2024-11-29T20:59:25.517915Z",
     "shell.execute_reply": "2024-11-29T20:59:25.516920Z"
    },
    "papermill": {
     "duration": 0.130933,
     "end_time": "2024-11-29T20:59:25.520303",
     "exception": false,
     "start_time": "2024-11-29T20:59:25.389370",
     "status": "completed"
    },
    "tags": []
   },
   "outputs": [],
   "source": [
    "preds = best_model.predict(test.drop('ID', axis=1))"
   ]
  },
  {
   "cell_type": "code",
   "execution_count": 32,
   "id": "31cfeacc",
   "metadata": {
    "_cell_guid": "e33b0326-6257-4425-bb72-6c3f983873ab",
    "_uuid": "cd0eb7ac-21ed-44ab-aef2-a8ac666065d6",
    "collapsed": false,
    "execution": {
     "iopub.execute_input": "2024-11-29T20:59:25.545016Z",
     "iopub.status.busy": "2024-11-29T20:59:25.544630Z",
     "iopub.status.idle": "2024-11-29T20:59:25.564047Z",
     "shell.execute_reply": "2024-11-29T20:59:25.563219Z"
    },
    "jupyter": {
     "outputs_hidden": false
    },
    "papermill": {
     "duration": 0.034618,
     "end_time": "2024-11-29T20:59:25.566310",
     "exception": false,
     "start_time": "2024-11-29T20:59:25.531692",
     "status": "completed"
    },
    "tags": []
   },
   "outputs": [],
   "source": [
    "# Create a submission using constant predictions\n",
    "submission = pd.DataFrame({\"ID\": test[\"ID\"], \"Outcome\": preds})\n",
    "\n",
    "# Save the submission\n",
    "submission.to_csv(\"submission_4.csv\", index=False)"
   ]
  },
  {
   "cell_type": "markdown",
   "id": "4804d368",
   "metadata": {
    "_cell_guid": "9caa41a8-575e-4b0c-b1d9-5dedecbe26bf",
    "_uuid": "6ec7693d-1821-42f5-beac-00d0a853baaa",
    "papermill": {
     "duration": 0.01043,
     "end_time": "2024-11-29T20:59:25.587652",
     "exception": false,
     "start_time": "2024-11-29T20:59:25.577222",
     "status": "completed"
    },
    "tags": []
   },
   "source": [
    "### Place for the feedack or meme\n",
    "\n",
    "..."
   ]
  }
 ],
 "metadata": {
  "kaggle": {
   "accelerator": "none",
   "dataSources": [
    {
     "databundleVersionId": 9793277,
     "sourceId": 86372,
     "sourceType": "competition"
    }
   ],
   "dockerImageVersionId": 30786,
   "isGpuEnabled": false,
   "isInternetEnabled": true,
   "language": "python",
   "sourceType": "notebook"
  },
  "kernelspec": {
   "display_name": "Python 3",
   "language": "python",
   "name": "python3"
  },
  "language_info": {
   "codemirror_mode": {
    "name": "ipython",
    "version": 3
   },
   "file_extension": ".py",
   "mimetype": "text/x-python",
   "name": "python",
   "nbconvert_exporter": "python",
   "pygments_lexer": "ipython3",
   "version": "3.10.14"
  },
  "papermill": {
   "default_parameters": {},
   "duration": 29.173285,
   "end_time": "2024-11-29T20:59:26.218235",
   "environment_variables": {},
   "exception": null,
   "input_path": "__notebook__.ipynb",
   "output_path": "__notebook__.ipynb",
   "parameters": {},
   "start_time": "2024-11-29T20:58:57.044950",
   "version": "2.6.0"
  }
 },
 "nbformat": 4,
 "nbformat_minor": 5
}
